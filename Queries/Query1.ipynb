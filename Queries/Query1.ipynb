{
 "cells": [
  {
   "cell_type": "code",
   "execution_count": 9,
   "id": "88afe398-ab3b-4fd5-b8a3-bed40905e4b6",
   "metadata": {
    "tags": []
   },
   "outputs": [
    {
     "data": {
      "application/vnd.jupyter.widget-view+json": {
       "model_id": "",
       "version_major": 2,
       "version_minor": 0
      },
      "text/plain": [
       "FloatProgress(value=0.0, bar_style='info', description='Progress:', layout=Layout(height='25px', width='50%'),…"
      ]
     },
     "metadata": {},
     "output_type": "display_data"
    }
   ],
   "source": [
    "# imports\n",
    "import time\n",
    "\n",
    "import pyspark\n",
    "from pyspark.sql import SparkSession\n",
    "from pyspark.sql.functions import col, when, count, desc, rank, sum as _sum\n",
    "from pyspark.sql.types import *\n",
    "from pyspark.sql.window import Window\n",
    "\n",
    "# Start Spark Session\n",
    "spark = SparkSession.builder \\\n",
    "    .appName(\"Query 1\") \\\n",
    "    .config(\"spark.executor.instances\", \"4g\") \\\n",
    "    .config(\"spark.executor.memory\", \"4g\") \\\n",
    "    .config(\"spark.executor.cores\", \"4\") \\\n",
    "    .getOrCreate()"
   ]
  },
  {
   "cell_type": "code",
   "execution_count": 10,
   "id": "21d87b09-5ca0-445f-8e3d-53c79db66476",
   "metadata": {
    "tags": []
   },
   "outputs": [
    {
     "data": {
      "application/vnd.jupyter.widget-view+json": {
       "model_id": "",
       "version_major": 2,
       "version_minor": 0
      },
      "text/plain": [
       "FloatProgress(value=0.0, bar_style='info', description='Progress:', layout=Layout(height='25px', width='50%'),…"
      ]
     },
     "metadata": {},
     "output_type": "display_data"
    }
   ],
   "source": [
    "# load datasets we need for query 1\n",
    "\n",
    "# Paths for dataset\n",
    "crime_data_2010_2019 = \"s3://initial-notebook-data-bucket-dblab-905418150721/CrimeData/Crime_Data_from_2010_to_2019_20241101.csv\"\n",
    "crime_data_2020 = \"s3://initial-notebook-data-bucket-dblab-905418150721/CrimeData/Crime_Data_from_2020_to_Present_20241101.csv\"\n",
    "\n",
    "\n",
    "# Load datasets\n",
    "crime_data = spark.read.csv(crime_data_2010_2019, header=True, inferSchema=True).union(\n",
    "    spark.read.csv(crime_data_2020, header=True, inferSchema=True))"
   ]
  },
  {
   "cell_type": "markdown",
   "id": "4173d63f-97c1-4e9d-b270-38788059c61d",
   "metadata": {},
   "source": [
    "DataFrame implementation"
   ]
  },
  {
   "cell_type": "code",
   "execution_count": 11,
   "id": "16625fcb-609d-4772-9be7-f21ced718405",
   "metadata": {
    "tags": []
   },
   "outputs": [
    {
     "data": {
      "application/vnd.jupyter.widget-view+json": {
       "model_id": "",
       "version_major": 2,
       "version_minor": 0
      },
      "text/plain": [
       "FloatProgress(value=0.0, bar_style='info', description='Progress:', layout=Layout(height='25px', width='50%'),…"
      ]
     },
     "metadata": {},
     "output_type": "display_data"
    },
    {
     "name": "stdout",
     "output_type": "stream",
     "text": [
      "+----------------+--------------+\n",
      "|Victim_Age_Group|Incident_Count|\n",
      "+----------------+--------------+\n",
      "|          Adults|        121093|\n",
      "|    Young Adults|         33605|\n",
      "|        Children|         10830|\n",
      "|         Elderly|          5985|\n",
      "|         Unknown|          5098|\n",
      "+----------------+--------------+\n",
      "\n",
      "DataFrame Implementation Time: 4.30 seconds"
     ]
    }
   ],
   "source": [
    "# Start timing\n",
    "start_time_df = time.time()\n",
    "\n",
    "# Filter for aggravated assault crimes\n",
    "assault_df = crime_data.filter(col(\"Crm Cd Desc\").contains(\"AGGRAVATED ASSAULT\"))\n",
    "\n",
    "# Add age group column\n",
    "age_group_df = assault_df.withColumn(\n",
    "    \"Victim_Age_Group\",\n",
    "    when((col(\"Vict Age\") < 18) & (col(\"Vict Age\") > 0), \"Children\")\n",
    "    .when((col(\"Vict Age\") >= 18) & (col(\"Vict Age\") <= 24), \"Young Adults\")\n",
    "    .when((col(\"Vict Age\") >= 25) & (col(\"Vict Age\") <= 64), \"Adults\")\n",
    "    .when(col(\"Vict Age\") > 64, \"Elderly\")\n",
    "    .otherwise(\"Unknown\")\n",
    ")\n",
    "\n",
    "# Group by age group and count occurrences\n",
    "age_group_counts_df = age_group_df.groupBy(\"Victim_Age_Group\").agg(count(\"*\").alias(\"Incident_Count\"))\n",
    "\n",
    "# Sort the results in descending order of incident count\n",
    "sorted_age_group_counts_df = age_group_counts_df.orderBy(col(\"Incident_Count\").desc())\n",
    "\n",
    "# Show results\n",
    "sorted_age_group_counts_df.show()\n",
    "\n",
    "# End timing\n",
    "end_time_df = time.time()\n",
    "\n",
    "# Calculate elapsed time\n",
    "elapsed_time_df = end_time_df - start_time_df\n",
    "print(f\"DataFrame Implementation Time: {elapsed_time_df:.2f} seconds\")"
   ]
  },
  {
   "cell_type": "markdown",
   "id": "430887e6-cdd3-40c4-8f1a-e3b896aee5ae",
   "metadata": {
    "tags": []
   },
   "source": [
    "RDD implementation"
   ]
  },
  {
   "cell_type": "code",
   "execution_count": 12,
   "id": "6a0ad442-f4b8-4fa4-8341-6b61b02031b3",
   "metadata": {
    "tags": []
   },
   "outputs": [
    {
     "data": {
      "application/vnd.jupyter.widget-view+json": {
       "model_id": "",
       "version_major": 2,
       "version_minor": 0
      },
      "text/plain": [
       "FloatProgress(value=0.0, bar_style='info', description='Progress:', layout=Layout(height='25px', width='50%'),…"
      ]
     },
     "metadata": {},
     "output_type": "display_data"
    },
    {
     "name": "stdout",
     "output_type": "stream",
     "text": [
      "Adults: 121093\n",
      "Young Adults: 33605\n",
      "Children: 10830\n",
      "Elderly: 5985\n",
      "Unknown: 5098\n",
      "RDD Implementation Time: 7.35 seconds"
     ]
    }
   ],
   "source": [
    "# Start timing\n",
    "start_time_rdd = time.time()\n",
    "\n",
    "# Filter for aggravated assault crimes\n",
    "assault_rdd = crime_data.filter(col(\"Crm Cd Desc\").contains(\"AGGRAVATED ASSAULT\")).rdd\n",
    "\n",
    "# Map the data to create age groups\n",
    "age_group_rdd = assault_rdd.map(\n",
    "    lambda row: (\n",
    "        \"Children\" if 0 < row[\"Vict Age\"] < 18 else\n",
    "        \"Young Adults\" if 18 <= row[\"Vict Age\"] <= 24 else\n",
    "        \"Adults\" if 25 <= row[\"Vict Age\"] <= 64 else\n",
    "        \"Elderly\" if row[\"Vict Age\"] > 64 else \"Unknown\",\n",
    "        1\n",
    "    )\n",
    ")\n",
    "\n",
    "# Reduce by key to count the occurrences of each age group\n",
    "age_group_counts_rdd = age_group_rdd.reduceByKey(lambda x, y: x + y)\n",
    "\n",
    "# Sort by count in descending order\n",
    "sorted_age_group_counts_rdd = age_group_counts_rdd.sortBy(lambda x: x[1], ascending=False)\n",
    "\n",
    "# Collect and display the results\n",
    "sorted_age_group_counts = sorted_age_group_counts_rdd.collect()\n",
    "for group, count in sorted_age_group_counts:\n",
    "    print(f\"{group}: {count}\")\n",
    "    \n",
    "# End timing\n",
    "end_time_rdd = time.time()\n",
    "\n",
    "# Calculate elapsed time\n",
    "elapsed_time_rdd = end_time_rdd - start_time_rdd\n",
    "print(f\"RDD Implementation Time: {elapsed_time_rdd:.2f} seconds\")"
   ]
  },
  {
   "cell_type": "code",
   "execution_count": 13,
   "id": "dfecb644-e4e7-46d5-ba14-4573192f9f8b",
   "metadata": {
    "tags": []
   },
   "outputs": [
    {
     "data": {
      "application/vnd.jupyter.widget-view+json": {
       "model_id": "",
       "version_major": 2,
       "version_minor": 0
      },
      "text/plain": [
       "FloatProgress(value=0.0, bar_style='info', description='Progress:', layout=Layout(height='25px', width='50%'),…"
      ]
     },
     "metadata": {},
     "output_type": "display_data"
    },
    {
     "name": "stdout",
     "output_type": "stream",
     "text": [
      "DataFrame Implementation Time: 4.30 seconds\n",
      "RDD Implementation Time: 7.35 seconds\n",
      "DataFrame API is faster."
     ]
    }
   ],
   "source": [
    "print(f\"DataFrame Implementation Time: {elapsed_time_df:.2f} seconds\")\n",
    "print(f\"RDD Implementation Time: {elapsed_time_rdd:.2f} seconds\")\n",
    "\n",
    "if elapsed_time_df < elapsed_time_rdd:\n",
    "    print(\"DataFrame API is faster.\")\n",
    "else:\n",
    "    print(\"RDD API is faster.\")"
   ]
  },
  {
   "cell_type": "code",
   "execution_count": null,
   "id": "1e76d0f2-9980-416a-bba1-3e50279c874e",
   "metadata": {},
   "outputs": [],
   "source": []
  }
 ],
 "metadata": {
  "kernelspec": {
   "display_name": "Sparkmagic (PySpark)",
   "language": "python",
   "name": "pysparkkernel"
  },
  "language_info": {
   "codemirror_mode": {
    "name": "python",
    "version": 3
   },
   "file_extension": ".py",
   "mimetype": "text/x-python",
   "name": "pyspark",
   "pygments_lexer": "python3"
  }
 },
 "nbformat": 4,
 "nbformat_minor": 5
}
