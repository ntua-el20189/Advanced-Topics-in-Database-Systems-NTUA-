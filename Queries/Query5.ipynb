{
 "cells": [
  {
   "cell_type": "code",
   "execution_count": 1,
   "id": "a24f7de3-689c-472a-b4fc-a671326db3a6",
   "metadata": {
    "tags": []
   },
   "outputs": [
    {
     "name": "stdout",
     "output_type": "stream",
     "text": [
      "Starting Spark application\n"
     ]
    },
    {
     "data": {
      "text/html": [
       "<table>\n",
       "<tr><th>ID</th><th>YARN Application ID</th><th>Kind</th><th>State</th><th>Spark UI</th><th>Driver log</th><th>User</th><th>Current session?</th></tr><tr><td>1460</td><td>application_1732639283265_1421</td><td>pyspark</td><td>idle</td><td><a target=\"_blank\" href=\"http://ip-192-168-1-36.eu-central-1.compute.internal:20888/proxy/application_1732639283265_1421/\">Link</a></td><td><a target=\"_blank\" href=\"http://ip-192-168-1-112.eu-central-1.compute.internal:8042/node/containerlogs/container_1732639283265_1421_01_000002/livy\">Link</a></td><td>None</td><td>✔</td></tr></table>"
      ],
      "text/plain": [
       "<IPython.core.display.HTML object>"
      ]
     },
     "metadata": {},
     "output_type": "display_data"
    },
    {
     "data": {
      "application/vnd.jupyter.widget-view+json": {
       "model_id": "",
       "version_major": 2,
       "version_minor": 0
      },
      "text/plain": [
       "FloatProgress(value=0.0, bar_style='info', description='Progress:', layout=Layout(height='25px', width='50%'),…"
      ]
     },
     "metadata": {},
     "output_type": "display_data"
    },
    {
     "name": "stdout",
     "output_type": "stream",
     "text": [
      "SparkSession available as 'spark'.\n"
     ]
    },
    {
     "data": {
      "application/vnd.jupyter.widget-view+json": {
       "model_id": "",
       "version_major": 2,
       "version_minor": 0
      },
      "text/plain": [
       "FloatProgress(value=0.0, bar_style='info', description='Progress:', layout=Layout(height='25px', width='50%'),…"
      ]
     },
     "metadata": {},
     "output_type": "display_data"
    }
   ],
   "source": [
    "import time\n",
    "\n",
    "import pyspark\n",
    "from pyspark.sql import SparkSession\n",
    "from pyspark.sql.functions import col, when, count, desc, rank, sum as _sum\n",
    "from pyspark.sql.types import *\n",
    "from pyspark.sql.window import Window\n",
    "\n",
    "from sedona.spark import *"
   ]
  },
  {
   "cell_type": "markdown",
   "id": "1f66c626-c2e3-49ef-90ca-8c40ac7e831d",
   "metadata": {},
   "source": [
    "## Case No1\n",
    "\n",
    "2 executors\n",
    "8g memory\n",
    "4 core"
   ]
  },
  {
   "cell_type": "code",
   "execution_count": 2,
   "id": "462a9202-9767-4c78-bfd5-2e004fb67592",
   "metadata": {
    "tags": []
   },
   "outputs": [
    {
     "data": {
      "application/vnd.jupyter.widget-view+json": {
       "model_id": "",
       "version_major": 2,
       "version_minor": 0
      },
      "text/plain": [
       "FloatProgress(value=0.0, bar_style='info', description='Progress:', layout=Layout(height='25px', width='50%'),…"
      ]
     },
     "metadata": {},
     "output_type": "display_data"
    }
   ],
   "source": [
    "# Start Spark Session\n",
    "spark = SparkSession.builder \\\n",
    "    .appName(\"Query 5\") \\\n",
    "    .config(\"spark.executor.instances\", \"2\") \\\n",
    "    .config(\"spark.executor.memory\", \"8g\") \\\n",
    "    .config(\"spark.executor.cores\", \"4\") \\\n",
    "    .getOrCreate()"
   ]
  },
  {
   "cell_type": "code",
   "execution_count": 3,
   "id": "e83c8e87-b1e7-4098-8e7f-0cc6a219611d",
   "metadata": {
    "tags": []
   },
   "outputs": [
    {
     "data": {
      "application/vnd.jupyter.widget-view+json": {
       "model_id": "",
       "version_major": 2,
       "version_minor": 0
      },
      "text/plain": [
       "FloatProgress(value=0.0, bar_style='info', description='Progress:', layout=Layout(height='25px', width='50%'),…"
      ]
     },
     "metadata": {},
     "output_type": "display_data"
    }
   ],
   "source": [
    "# paths\n",
    "crime_data_2010_2019 = \"s3://initial-notebook-data-bucket-dblab-905418150721/CrimeData/Crime_Data_from_2010_to_2019_20241101.csv\"\n",
    "crime_data_2020 = \"s3://initial-notebook-data-bucket-dblab-905418150721/CrimeData/Crime_Data_from_2020_to_Present_20241101.csv\"\n",
    "police_stations = \"s3://initial-notebook-data-bucket-dblab-905418150721/LA_Police_Stations.csv\"\n",
    "\n",
    "# Load datasets\n",
    "crime_df = spark.read.csv(crime_data_2010_2019, header=True, inferSchema=True).union(\n",
    "    spark.read.csv(crime_data_2020, header=True, inferSchema=True))\n",
    "police_stations_df = spark.read.csv(police_stations, header=True, inferSchema=True)"
   ]
  },
  {
   "cell_type": "code",
   "execution_count": 4,
   "id": "002118f3-6808-4067-af20-ad03ade6eadb",
   "metadata": {
    "tags": []
   },
   "outputs": [
    {
     "data": {
      "application/vnd.jupyter.widget-view+json": {
       "model_id": "",
       "version_major": 2,
       "version_minor": 0
      },
      "text/plain": [
       "FloatProgress(value=0.0, bar_style='info', description='Progress:', layout=Layout(height='25px', width='50%'),…"
      ]
     },
     "metadata": {},
     "output_type": "display_data"
    },
    {
     "name": "stdout",
     "output_type": "stream",
     "text": [
      "root\n",
      " |-- DR_NO: integer (nullable = true)\n",
      " |-- Date Rptd: string (nullable = true)\n",
      " |-- DATE OCC: string (nullable = true)\n",
      " |-- TIME OCC: integer (nullable = true)\n",
      " |-- AREA : integer (nullable = true)\n",
      " |-- AREA NAME: string (nullable = true)\n",
      " |-- Rpt Dist No: integer (nullable = true)\n",
      " |-- Part 1-2: integer (nullable = true)\n",
      " |-- Crm Cd: integer (nullable = true)\n",
      " |-- Crm Cd Desc: string (nullable = true)\n",
      " |-- Mocodes: string (nullable = true)\n",
      " |-- Vict Age: integer (nullable = true)\n",
      " |-- Vict Sex: string (nullable = true)\n",
      " |-- Vict Descent: string (nullable = true)\n",
      " |-- Premis Cd: integer (nullable = true)\n",
      " |-- Premis Desc: string (nullable = true)\n",
      " |-- Weapon Used Cd: integer (nullable = true)\n",
      " |-- Weapon Desc: string (nullable = true)\n",
      " |-- Status: string (nullable = true)\n",
      " |-- Status Desc: string (nullable = true)\n",
      " |-- Crm Cd 1: integer (nullable = true)\n",
      " |-- Crm Cd 2: integer (nullable = true)\n",
      " |-- Crm Cd 3: integer (nullable = true)\n",
      " |-- Crm Cd 4: integer (nullable = true)\n",
      " |-- LOCATION: string (nullable = true)\n",
      " |-- Cross Street: string (nullable = true)\n",
      " |-- LAT: double (nullable = true)\n",
      " |-- LON: double (nullable = true)\n",
      " |-- geom: geometry (nullable = true)\n",
      "\n",
      "root\n",
      " |-- X: double (nullable = true)\n",
      " |-- Y: double (nullable = true)\n",
      " |-- FID: integer (nullable = true)\n",
      " |-- DIVISION: string (nullable = true)\n",
      " |-- LOCATION: string (nullable = true)\n",
      " |-- PREC: integer (nullable = true)\n",
      " |-- geom: geometry (nullable = true)"
     ]
    }
   ],
   "source": [
    "start_time_1 = time.time()\n",
    "\n",
    "# Create sedona context\n",
    "sedona = SedonaContext.create(spark)\n",
    "\n",
    "# Create geometry column for crimes\n",
    "crime_df = crime_df.withColumn(\"geom\", ST_Point(\"LON\", \"LAT\"))\n",
    "\n",
    "# Create geometry column for police stations\n",
    "police_stations_df = police_stations_df.withColumn(\"geom\", ST_Point(\"X\", \"Y\"))\n",
    "\n",
    "# Show updated schemas\n",
    "crime_df.printSchema()\n",
    "police_stations_df.printSchema()"
   ]
  },
  {
   "cell_type": "code",
   "execution_count": 5,
   "id": "fe8a675e-e9c8-4a44-947d-e88a369f4e8c",
   "metadata": {
    "tags": []
   },
   "outputs": [
    {
     "data": {
      "application/vnd.jupyter.widget-view+json": {
       "model_id": "",
       "version_major": 2,
       "version_minor": 0
      },
      "text/plain": [
       "FloatProgress(value=0.0, bar_style='info', description='Progress:', layout=Layout(height='25px', width='50%'),…"
      ]
     },
     "metadata": {},
     "output_type": "display_data"
    },
    {
     "name": "stdout",
     "output_type": "stream",
     "text": [
      "+-------+--------------------+--------------------+--------+-----+---------+-----------+--------+------+--------------------+--------------+--------+--------+------------+---------+--------------------+--------------+-----------+------+------------+--------+--------+--------+--------+--------------------+------------+-------+---------+--------------------+--------------+----------------+---+-----------+--------------------+----+--------------------+------------------+\n",
      "|  DR_NO|           Date Rptd|            DATE OCC|TIME OCC|AREA |AREA NAME|Rpt Dist No|Part 1-2|Crm Cd|         Crm Cd Desc|       Mocodes|Vict Age|Vict Sex|Vict Descent|Premis Cd|         Premis Desc|Weapon Used Cd|Weapon Desc|Status| Status Desc|Crm Cd 1|Crm Cd 2|Crm Cd 3|Crm Cd 4|            LOCATION|Cross Street|    LAT|      LON|                geom|             X|               Y|FID|   DIVISION|            LOCATION|PREC|                geom|          distance|\n",
      "+-------+--------------------+--------------------+--------+-----+---------+-----------+--------+------+--------------------+--------------+--------+--------+------------+---------+--------------------+--------------+-----------+------+------------+--------+--------+--------+--------+--------------------+------------+-------+---------+--------------------+--------------+----------------+---+-----------+--------------------+----+--------------------+------------------+\n",
      "|1307355|02/20/2010 12:00:...|02/20/2010 12:00:...|    1350|   13|   Newton|       1385|       2|   900|VIOLATION OF COUR...|0913 1814 2000|      48|       M|           H|      501|SINGLE FAMILY DWE...|          NULL|       NULL|    AA|Adult Arrest|     900|    NULL|    NULL|    NULL|300 E  GAGE      ...|        NULL|33.9825|-118.2695|POINT (-118.2695 ...|-118.289241553|33.7576608970001|  1|     HARBOR|2175 JOHN S. GIBS...|   5|POINT (-118.28924...|25067.349236188526|\n",
      "|1307355|02/20/2010 12:00:...|02/20/2010 12:00:...|    1350|   13|   Newton|       1385|       2|   900|VIOLATION OF COUR...|0913 1814 2000|      48|       M|           H|      501|SINGLE FAMILY DWE...|          NULL|       NULL|    AA|Adult Arrest|     900|    NULL|    NULL|    NULL|300 E  GAGE      ...|        NULL|33.9825|-118.2695|POINT (-118.2695 ...|-118.275394206|33.9386273800001|  2|  SOUTHEAST|    145 W. 108TH ST.|  18|POINT (-118.27539...| 4908.612980951572|\n",
      "|1307355|02/20/2010 12:00:...|02/20/2010 12:00:...|    1350|   13|   Newton|       1385|       2|   900|VIOLATION OF COUR...|0913 1814 2000|      48|       M|           H|      501|SINGLE FAMILY DWE...|          NULL|       NULL|    AA|Adult Arrest|     900|    NULL|    NULL|    NULL|300 E  GAGE      ...|        NULL|33.9825|-118.2695|POINT (-118.2695 ...|-118.277669655|33.9703073800001|  3|77TH STREET|    7600 S. BROADWAY|  12|POINT (-118.27766...| 1550.995117379447|\n",
      "|1307355|02/20/2010 12:00:...|02/20/2010 12:00:...|    1350|   13|   Newton|       1385|       2|   900|VIOLATION OF COUR...|0913 1814 2000|      48|       M|           H|      501|SINGLE FAMILY DWE...|          NULL|       NULL|    AA|Adult Arrest|     900|    NULL|    NULL|    NULL|300 E  GAGE      ...|        NULL|33.9825|-118.2695|POINT (-118.2695 ...|-118.419841576|33.9916553210001|  4|    PACIFIC|  12312 CULVER BLVD.|  14|POINT (-118.41984...| 13898.66156416122|\n",
      "+-------+--------------------+--------------------+--------+-----+---------+-----------+--------+------+--------------------+--------------+--------+--------+------------+---------+--------------------+--------------+-----------+------+------------+--------+--------+--------+--------+--------------------+------------+-------+---------+--------------------+--------------+----------------+---+-----------+--------------------+----+--------------------+------------------+\n",
      "only showing top 4 rows"
     ]
    }
   ],
   "source": [
    "# Cross-join crimes and police stations to calculate distances\n",
    "crime_distances_df = crime_df.crossJoin(police_stations_df) \\\n",
    "    .withColumn(\"distance\", ST_DistanceSphere(crime_df[\"geom\"], police_stations_df[\"geom\"]))\n",
    "\n",
    "# Show the calculated distances\n",
    "crime_distances_df.show(4)\n"
   ]
  },
  {
   "cell_type": "code",
   "execution_count": 6,
   "id": "fc2a7bda-df0b-430e-954e-783865963b63",
   "metadata": {
    "tags": []
   },
   "outputs": [
    {
     "data": {
      "application/vnd.jupyter.widget-view+json": {
       "model_id": "",
       "version_major": 2,
       "version_minor": 0
      },
      "text/plain": [
       "FloatProgress(value=0.0, bar_style='info', description='Progress:', layout=Layout(height='25px', width='50%'),…"
      ]
     },
     "metadata": {},
     "output_type": "display_data"
    },
    {
     "name": "stdout",
     "output_type": "stream",
     "text": [
      "+---------+---------+------------------+\n",
      "|    DR_NO| DIVISION|          distance|\n",
      "+---------+---------+------------------+\n",
      "| 91231932|SOUTHWEST|2257.2533220281193|\n",
      "|100100523|  CENTRAL| 1300.733040644066|\n",
      "|100100608|  RAMPART|1140.0611312527299|\n",
      "|100100751|  CENTRAL|221.00932828621197|\n",
      "|100100853|  CENTRAL|1089.0413188582168|\n",
      "|100100857|  CENTRAL| 698.8861729382769|\n",
      "|100100925|  CENTRAL| 271.6366601173468|\n",
      "|100100950|  CENTRAL| 521.3846970614009|\n",
      "|100100980|  CENTRAL| 724.6837344896162|\n",
      "|100101125|  CENTRAL| 674.4711458026111|\n",
      "|100101136|  CENTRAL|1983.2012674561922|\n",
      "|100101283|  CENTRAL| 313.3676894974406|\n",
      "|100101422|  CENTRAL| 911.6183493737415|\n",
      "|100101429|  CENTRAL| 552.5738180020111|\n",
      "|100101685|  CENTRAL|1721.0833118567502|\n",
      "|100104055|  CENTRAL|431.77897375232095|\n",
      "|100104099|  CENTRAL| 271.6366601173468|\n",
      "|100104146|  CENTRAL| 526.1458976350942|\n",
      "|100104254|  CENTRAL| 271.6366601173468|\n",
      "|100104272|  CENTRAL| 886.7059823960111|\n",
      "+---------+---------+------------------+\n",
      "only showing top 20 rows"
     ]
    }
   ],
   "source": [
    "from pyspark.sql.window import Window\n",
    "from pyspark.sql.functions import row_number\n",
    "\n",
    "# Create a window partitioned by crime DR_NO, ordered by distance\n",
    "window_spec = Window.partitionBy(\"DR_NO\").orderBy(\"distance\")\n",
    "\n",
    "# Select the closest police station for each crime\n",
    "closest_station_df = crime_distances_df.withColumn(\"rank\", row_number().over(window_spec)) \\\n",
    "    .filter(col(\"rank\") == 1) \\\n",
    "    .select(\"DR_NO\", \"DIVISION\", \"distance\")\n",
    "\n",
    "# Show the closest police stations\n",
    "closest_station_df.show()\n"
   ]
  },
  {
   "cell_type": "code",
   "execution_count": 7,
   "id": "03452b2f-104e-4edc-b653-ef903c2f1594",
   "metadata": {
    "tags": []
   },
   "outputs": [
    {
     "data": {
      "application/vnd.jupyter.widget-view+json": {
       "model_id": "",
       "version_major": 2,
       "version_minor": 0
      },
      "text/plain": [
       "FloatProgress(value=0.0, bar_style='info', description='Progress:', layout=Layout(height='25px', width='50%'),…"
      ]
     },
     "metadata": {},
     "output_type": "display_data"
    },
    {
     "name": "stdout",
     "output_type": "stream",
     "text": [
      "+----------------+------------------+----------------+\n",
      "|        DIVISION|  Average_Distance|Number_of_Crimes|\n",
      "+----------------+------------------+----------------+\n",
      "|       HOLLYWOOD|2076.2639601787287|          224340|\n",
      "|        VAN NUYS| 2953.369742819791|          210134|\n",
      "|       SOUTHWEST| 2191.398805780876|          188901|\n",
      "|        WILSHIRE| 2592.665532978779|          185996|\n",
      "|     77TH STREET|1716.5449719701091|          171827|\n",
      "|         OLYMPIC|1723.6036971780964|          170897|\n",
      "| NORTH HOLLYWOOD| 2643.006094141568|          167854|\n",
      "|         PACIFIC|3850.0706553079117|          161359|\n",
      "|         CENTRAL| 992.4764374568801|          153871|\n",
      "|         RAMPART| 1534.534187919017|          152736|\n",
      "|       SOUTHEAST|2421.8662158881825|          152176|\n",
      "|     WEST VALLEY| 3035.671216314059|          138643|\n",
      "|         TOPANGA| 3296.954841755584|          138217|\n",
      "|        FOOTHILL| 4250.921708425003|          134896|\n",
      "|          HARBOR|3702.5615993564984|          126747|\n",
      "|      HOLLENBECK| 366921.3044614886|          119294|\n",
      "|WEST LOS ANGELES| 2792.457289034109|          115781|\n",
      "|          NEWTON|1634.6357397097424|          111110|\n",
      "|       NORTHEAST|  3623.66552460408|          108109|\n",
      "|         MISSION|3690.9426142786024|          103355|\n",
      "+----------------+------------------+----------------+\n",
      "only showing top 20 rows"
     ]
    }
   ],
   "source": [
    "from pyspark.sql.functions import avg, count, col\n",
    "\n",
    "# Aggregate crimes and distances by police station\n",
    "station_crime_stats_df = closest_station_df.groupBy(\"DIVISION\") \\\n",
    "    .agg(\n",
    "        count(\"DR_NO\").alias(\"Number_of_Crimes\"),\n",
    "        avg(\"distance\").alias(\"Average_Distance\")\n",
    "    ) \\\n",
    "    .orderBy(col(\"Number_of_Crimes\").desc())\n",
    "\n",
    "# Reorder the columns\n",
    "station_crime_stats_df = station_crime_stats_df.select(\n",
    "    \"DIVISION\",\n",
    "    \"Average_Distance\",\n",
    "    \"Number_of_Crimes\"\n",
    ")\n",
    "\n",
    "# Show the final results\n",
    "station_crime_stats_df.show()\n",
    "\n",
    "end_time_1 = time.time()"
   ]
  },
  {
   "cell_type": "code",
   "execution_count": 42,
   "id": "23745f3a-a227-445d-8379-f72cedef7356",
   "metadata": {
    "tags": []
   },
   "outputs": [
    {
     "data": {
      "application/vnd.jupyter.widget-view+json": {
       "model_id": "",
       "version_major": 2,
       "version_minor": 0
      },
      "text/plain": [
       "FloatProgress(value=0.0, bar_style='info', description='Progress:', layout=Layout(height='25px', width='50%'),…"
      ]
     },
     "metadata": {},
     "output_type": "display_data"
    },
    {
     "name": "stdout",
     "output_type": "stream",
     "text": [
      "2 executors 8g memory 4 core: 43.96 seconds"
     ]
    }
   ],
   "source": [
    "elapsed_time_2_8_4 = end_time_1 - start_time_1\n",
    "print(f\"2 executors 8g memory 4 core: {elapsed_time_2_8_4:.2f} seconds\")"
   ]
  },
  {
   "cell_type": "markdown",
   "id": "79e975a5-99cb-451b-acb0-a386e384f2e2",
   "metadata": {},
   "source": [
    "## Case No2\n",
    "\n",
    "4 executors\n",
    "4g memory\n",
    "2 core"
   ]
  },
  {
   "cell_type": "code",
   "execution_count": 43,
   "id": "84396a1d-092e-4791-b134-38c887b62afd",
   "metadata": {
    "tags": []
   },
   "outputs": [
    {
     "data": {
      "application/vnd.jupyter.widget-view+json": {
       "model_id": "",
       "version_major": 2,
       "version_minor": 0
      },
      "text/plain": [
       "FloatProgress(value=0.0, bar_style='info', description='Progress:', layout=Layout(height='25px', width='50%'),…"
      ]
     },
     "metadata": {},
     "output_type": "display_data"
    }
   ],
   "source": [
    "# Start Spark Session\n",
    "spark = SparkSession.builder \\\n",
    "    .appName(\"Query 5\") \\\n",
    "    .config(\"spark.executor.instances\", \"4\") \\\n",
    "    .config(\"spark.executor.memory\", \"4g\") \\\n",
    "    .config(\"spark.executor.cores\", \"2\") \\\n",
    "    .getOrCreate()"
   ]
  },
  {
   "cell_type": "code",
   "execution_count": 44,
   "id": "2e44fafb-55e9-4370-b99a-a479b98a9501",
   "metadata": {
    "tags": []
   },
   "outputs": [
    {
     "data": {
      "application/vnd.jupyter.widget-view+json": {
       "model_id": "",
       "version_major": 2,
       "version_minor": 0
      },
      "text/plain": [
       "FloatProgress(value=0.0, bar_style='info', description='Progress:', layout=Layout(height='25px', width='50%'),…"
      ]
     },
     "metadata": {},
     "output_type": "display_data"
    }
   ],
   "source": [
    "# paths\n",
    "crime_data_2010_2019 = \"s3://initial-notebook-data-bucket-dblab-905418150721/CrimeData/Crime_Data_from_2010_to_2019_20241101.csv\"\n",
    "crime_data_2020 = \"s3://initial-notebook-data-bucket-dblab-905418150721/CrimeData/Crime_Data_from_2020_to_Present_20241101.csv\"\n",
    "police_stations = \"s3://initial-notebook-data-bucket-dblab-905418150721/LA_Police_Stations.csv\"\n",
    "\n",
    "# Load datasets\n",
    "crime_df = spark.read.csv(crime_data_2010_2019, header=True, inferSchema=True).union(\n",
    "    spark.read.csv(crime_data_2020, header=True, inferSchema=True))\n",
    "police_stations_df = spark.read.csv(police_stations, header=True, inferSchema=True)"
   ]
  },
  {
   "cell_type": "code",
   "execution_count": 45,
   "id": "7ad6565d-6790-433c-a988-c66842342cf1",
   "metadata": {
    "tags": []
   },
   "outputs": [
    {
     "data": {
      "application/vnd.jupyter.widget-view+json": {
       "model_id": "",
       "version_major": 2,
       "version_minor": 0
      },
      "text/plain": [
       "FloatProgress(value=0.0, bar_style='info', description='Progress:', layout=Layout(height='25px', width='50%'),…"
      ]
     },
     "metadata": {},
     "output_type": "display_data"
    },
    {
     "name": "stdout",
     "output_type": "stream",
     "text": [
      "root\n",
      " |-- DR_NO: integer (nullable = true)\n",
      " |-- Date Rptd: string (nullable = true)\n",
      " |-- DATE OCC: string (nullable = true)\n",
      " |-- TIME OCC: integer (nullable = true)\n",
      " |-- AREA : integer (nullable = true)\n",
      " |-- AREA NAME: string (nullable = true)\n",
      " |-- Rpt Dist No: integer (nullable = true)\n",
      " |-- Part 1-2: integer (nullable = true)\n",
      " |-- Crm Cd: integer (nullable = true)\n",
      " |-- Crm Cd Desc: string (nullable = true)\n",
      " |-- Mocodes: string (nullable = true)\n",
      " |-- Vict Age: integer (nullable = true)\n",
      " |-- Vict Sex: string (nullable = true)\n",
      " |-- Vict Descent: string (nullable = true)\n",
      " |-- Premis Cd: integer (nullable = true)\n",
      " |-- Premis Desc: string (nullable = true)\n",
      " |-- Weapon Used Cd: integer (nullable = true)\n",
      " |-- Weapon Desc: string (nullable = true)\n",
      " |-- Status: string (nullable = true)\n",
      " |-- Status Desc: string (nullable = true)\n",
      " |-- Crm Cd 1: integer (nullable = true)\n",
      " |-- Crm Cd 2: integer (nullable = true)\n",
      " |-- Crm Cd 3: integer (nullable = true)\n",
      " |-- Crm Cd 4: integer (nullable = true)\n",
      " |-- LOCATION: string (nullable = true)\n",
      " |-- Cross Street: string (nullable = true)\n",
      " |-- LAT: double (nullable = true)\n",
      " |-- LON: double (nullable = true)\n",
      " |-- geom: geometry (nullable = true)\n",
      "\n",
      "root\n",
      " |-- X: double (nullable = true)\n",
      " |-- Y: double (nullable = true)\n",
      " |-- FID: integer (nullable = true)\n",
      " |-- DIVISION: string (nullable = true)\n",
      " |-- LOCATION: string (nullable = true)\n",
      " |-- PREC: integer (nullable = true)\n",
      " |-- geom: geometry (nullable = true)"
     ]
    }
   ],
   "source": [
    "start_time_2 = time.time()\n",
    "\n",
    "# Create sedona context\n",
    "sedona = SedonaContext.create(spark)\n",
    "\n",
    "# Create geometry column for crimes\n",
    "crime_df = crime_df.withColumn(\"geom\", ST_Point(\"LON\", \"LAT\"))\n",
    "\n",
    "# Create geometry column for police stations\n",
    "police_stations_df = police_stations_df.withColumn(\"geom\", ST_Point(\"X\", \"Y\"))\n",
    "\n",
    "# Show updated schemas\n",
    "crime_df.printSchema()\n",
    "police_stations_df.printSchema()"
   ]
  },
  {
   "cell_type": "code",
   "execution_count": 46,
   "id": "23069d24-bff0-4524-853f-91e4a641f0df",
   "metadata": {
    "tags": []
   },
   "outputs": [
    {
     "data": {
      "application/vnd.jupyter.widget-view+json": {
       "model_id": "",
       "version_major": 2,
       "version_minor": 0
      },
      "text/plain": [
       "FloatProgress(value=0.0, bar_style='info', description='Progress:', layout=Layout(height='25px', width='50%'),…"
      ]
     },
     "metadata": {},
     "output_type": "display_data"
    },
    {
     "name": "stdout",
     "output_type": "stream",
     "text": [
      "+-------+--------------------+--------------------+--------+-----+---------+-----------+--------+------+--------------------+--------------+--------+--------+------------+---------+--------------------+--------------+-----------+------+------------+--------+--------+--------+--------+--------------------+------------+-------+---------+--------------------+--------------+----------------+---+-----------+--------------------+----+--------------------+------------------+\n",
      "|  DR_NO|           Date Rptd|            DATE OCC|TIME OCC|AREA |AREA NAME|Rpt Dist No|Part 1-2|Crm Cd|         Crm Cd Desc|       Mocodes|Vict Age|Vict Sex|Vict Descent|Premis Cd|         Premis Desc|Weapon Used Cd|Weapon Desc|Status| Status Desc|Crm Cd 1|Crm Cd 2|Crm Cd 3|Crm Cd 4|            LOCATION|Cross Street|    LAT|      LON|                geom|             X|               Y|FID|   DIVISION|            LOCATION|PREC|                geom|          distance|\n",
      "+-------+--------------------+--------------------+--------+-----+---------+-----------+--------+------+--------------------+--------------+--------+--------+------------+---------+--------------------+--------------+-----------+------+------------+--------+--------+--------+--------+--------------------+------------+-------+---------+--------------------+--------------+----------------+---+-----------+--------------------+----+--------------------+------------------+\n",
      "|1307355|02/20/2010 12:00:...|02/20/2010 12:00:...|    1350|   13|   Newton|       1385|       2|   900|VIOLATION OF COUR...|0913 1814 2000|      48|       M|           H|      501|SINGLE FAMILY DWE...|          NULL|       NULL|    AA|Adult Arrest|     900|    NULL|    NULL|    NULL|300 E  GAGE      ...|        NULL|33.9825|-118.2695|POINT (-118.2695 ...|-118.289241553|33.7576608970001|  1|     HARBOR|2175 JOHN S. GIBS...|   5|POINT (-118.28924...|25067.349236188526|\n",
      "|1307355|02/20/2010 12:00:...|02/20/2010 12:00:...|    1350|   13|   Newton|       1385|       2|   900|VIOLATION OF COUR...|0913 1814 2000|      48|       M|           H|      501|SINGLE FAMILY DWE...|          NULL|       NULL|    AA|Adult Arrest|     900|    NULL|    NULL|    NULL|300 E  GAGE      ...|        NULL|33.9825|-118.2695|POINT (-118.2695 ...|-118.275394206|33.9386273800001|  2|  SOUTHEAST|    145 W. 108TH ST.|  18|POINT (-118.27539...| 4908.612980951572|\n",
      "|1307355|02/20/2010 12:00:...|02/20/2010 12:00:...|    1350|   13|   Newton|       1385|       2|   900|VIOLATION OF COUR...|0913 1814 2000|      48|       M|           H|      501|SINGLE FAMILY DWE...|          NULL|       NULL|    AA|Adult Arrest|     900|    NULL|    NULL|    NULL|300 E  GAGE      ...|        NULL|33.9825|-118.2695|POINT (-118.2695 ...|-118.277669655|33.9703073800001|  3|77TH STREET|    7600 S. BROADWAY|  12|POINT (-118.27766...| 1550.995117379447|\n",
      "|1307355|02/20/2010 12:00:...|02/20/2010 12:00:...|    1350|   13|   Newton|       1385|       2|   900|VIOLATION OF COUR...|0913 1814 2000|      48|       M|           H|      501|SINGLE FAMILY DWE...|          NULL|       NULL|    AA|Adult Arrest|     900|    NULL|    NULL|    NULL|300 E  GAGE      ...|        NULL|33.9825|-118.2695|POINT (-118.2695 ...|-118.419841576|33.9916553210001|  4|    PACIFIC|  12312 CULVER BLVD.|  14|POINT (-118.41984...| 13898.66156416122|\n",
      "+-------+--------------------+--------------------+--------+-----+---------+-----------+--------+------+--------------------+--------------+--------+--------+------------+---------+--------------------+--------------+-----------+------+------------+--------+--------+--------+--------+--------------------+------------+-------+---------+--------------------+--------------+----------------+---+-----------+--------------------+----+--------------------+------------------+\n",
      "only showing top 4 rows"
     ]
    }
   ],
   "source": [
    "# Cross-join crimes and police stations to calculate distances\n",
    "crime_distances_df = crime_df.crossJoin(police_stations_df) \\\n",
    "    .withColumn(\"distance\", ST_DistanceSphere(crime_df[\"geom\"], police_stations_df[\"geom\"]))\n",
    "\n",
    "# Show the calculated distances\n",
    "crime_distances_df.show(4)\n"
   ]
  },
  {
   "cell_type": "code",
   "execution_count": 47,
   "id": "5129fa6c-d32e-4e20-95b4-e6746d53cd33",
   "metadata": {
    "tags": []
   },
   "outputs": [
    {
     "data": {
      "application/vnd.jupyter.widget-view+json": {
       "model_id": "",
       "version_major": 2,
       "version_minor": 0
      },
      "text/plain": [
       "FloatProgress(value=0.0, bar_style='info', description='Progress:', layout=Layout(height='25px', width='50%'),…"
      ]
     },
     "metadata": {},
     "output_type": "display_data"
    },
    {
     "name": "stdout",
     "output_type": "stream",
     "text": [
      "+---------+---------+------------------+\n",
      "|    DR_NO| DIVISION|          distance|\n",
      "+---------+---------+------------------+\n",
      "| 91231932|SOUTHWEST|2257.2533220281193|\n",
      "|100100523|  CENTRAL| 1300.733040644066|\n",
      "|100100608|  RAMPART|1140.0611312527299|\n",
      "|100100751|  CENTRAL|221.00932828621197|\n",
      "|100100842|  RAMPART|1151.6898086067715|\n",
      "|100100853|  CENTRAL|1089.0413188582168|\n",
      "|100100857|  CENTRAL| 698.8861729382769|\n",
      "|100100925|  CENTRAL| 271.6366601173468|\n",
      "|100100950|  CENTRAL| 521.3846970614009|\n",
      "|100100980|  CENTRAL| 724.6837344896162|\n",
      "|100101125|  CENTRAL| 674.4711458026111|\n",
      "|100101136|  CENTRAL|1983.2012674561922|\n",
      "|100101182|  CENTRAL| 371.9092348906933|\n",
      "|100101283|  CENTRAL| 313.3676894974406|\n",
      "|100101422|  CENTRAL| 911.6183493737415|\n",
      "|100101429|  CENTRAL| 552.5738180020111|\n",
      "|100101685|  CENTRAL|1721.0833118567502|\n",
      "|100104055|  CENTRAL|431.77897375232095|\n",
      "|100104099|  CENTRAL| 271.6366601173468|\n",
      "|100104146|  CENTRAL| 526.1458976350942|\n",
      "+---------+---------+------------------+\n",
      "only showing top 20 rows"
     ]
    }
   ],
   "source": [
    "from pyspark.sql.window import Window\n",
    "from pyspark.sql.functions import row_number\n",
    "\n",
    "# Create a window partitioned by crime DR_NO, ordered by distance\n",
    "window_spec = Window.partitionBy(\"DR_NO\").orderBy(\"distance\")\n",
    "\n",
    "# Select the closest police station for each crime\n",
    "closest_station_df = crime_distances_df.withColumn(\"rank\", row_number().over(window_spec)) \\\n",
    "    .filter(col(\"rank\") == 1) \\\n",
    "    .select(\"DR_NO\", \"DIVISION\", \"distance\")\n",
    "\n",
    "# Show the closest police stations\n",
    "closest_station_df.show()\n"
   ]
  },
  {
   "cell_type": "code",
   "execution_count": 48,
   "id": "6719cbcf-ec5d-4b15-8661-4ae5d2bfc97e",
   "metadata": {
    "tags": []
   },
   "outputs": [
    {
     "data": {
      "application/vnd.jupyter.widget-view+json": {
       "model_id": "",
       "version_major": 2,
       "version_minor": 0
      },
      "text/plain": [
       "FloatProgress(value=0.0, bar_style='info', description='Progress:', layout=Layout(height='25px', width='50%'),…"
      ]
     },
     "metadata": {},
     "output_type": "display_data"
    },
    {
     "name": "stdout",
     "output_type": "stream",
     "text": [
      "+----------------+------------------+----------------+\n",
      "|        DIVISION|  Average_Distance|Number_of_Crimes|\n",
      "+----------------+------------------+----------------+\n",
      "|       HOLLYWOOD| 2076.263960178729|          224340|\n",
      "|        VAN NUYS|2953.3697428197906|          210134|\n",
      "|       SOUTHWEST| 2191.398805780876|          188901|\n",
      "|        WILSHIRE| 2592.665532978779|          185996|\n",
      "|     77TH STREET|1716.5449719701087|          171827|\n",
      "|         OLYMPIC|1723.6036971780966|          170897|\n",
      "| NORTH HOLLYWOOD| 2643.006094141569|          167854|\n",
      "|         PACIFIC| 3850.070655307912|          161359|\n",
      "|         CENTRAL| 992.4764374568799|          153871|\n",
      "|         RAMPART|1534.5341879190173|          152736|\n",
      "|       SOUTHEAST| 2421.866215888182|          152176|\n",
      "|     WEST VALLEY|3035.6712163140596|          138643|\n",
      "|         TOPANGA|3296.9548417555843|          138217|\n",
      "|        FOOTHILL| 4250.921708425003|          134896|\n",
      "|          HARBOR|3702.5615993564984|          126747|\n",
      "|      HOLLENBECK|366921.30446148856|          119294|\n",
      "|WEST LOS ANGELES|2792.4572890341087|          115781|\n",
      "|          NEWTON|1634.6357397097424|          111110|\n",
      "|       NORTHEAST|  3623.66552460408|          108109|\n",
      "|         MISSION|3690.9426142786037|          103355|\n",
      "+----------------+------------------+----------------+\n",
      "only showing top 20 rows"
     ]
    }
   ],
   "source": [
    "from pyspark.sql.functions import avg, count, col\n",
    "\n",
    "# Aggregate crimes and distances by police station\n",
    "station_crime_stats_df = closest_station_df.groupBy(\"DIVISION\") \\\n",
    "    .agg(\n",
    "        count(\"DR_NO\").alias(\"Number_of_Crimes\"),\n",
    "        avg(\"distance\").alias(\"Average_Distance\")\n",
    "    ) \\\n",
    "    .orderBy(col(\"Number_of_Crimes\").desc())\n",
    "\n",
    "# Reorder the columns\n",
    "station_crime_stats_df = station_crime_stats_df.select(\n",
    "    \"DIVISION\",\n",
    "    \"Average_Distance\",\n",
    "    \"Number_of_Crimes\"\n",
    ")\n",
    "\n",
    "# Show the final results\n",
    "station_crime_stats_df.show()\n",
    "\n",
    "end_time_2 = time.time()"
   ]
  },
  {
   "cell_type": "code",
   "execution_count": 49,
   "id": "54b9d1a1-30d2-4c1e-8a44-5260bfc1da7e",
   "metadata": {
    "tags": []
   },
   "outputs": [
    {
     "data": {
      "application/vnd.jupyter.widget-view+json": {
       "model_id": "",
       "version_major": 2,
       "version_minor": 0
      },
      "text/plain": [
       "FloatProgress(value=0.0, bar_style='info', description='Progress:', layout=Layout(height='25px', width='50%'),…"
      ]
     },
     "metadata": {},
     "output_type": "display_data"
    },
    {
     "name": "stdout",
     "output_type": "stream",
     "text": [
      "4 executors 4g memory 2 core: 21.06 seconds"
     ]
    }
   ],
   "source": [
    "elapsed_time_4_4_2 = end_time_2 - start_time_2\n",
    "print(f\"4 executors 4g memory 2 core: {elapsed_time_4_4_2:.2f} seconds\")"
   ]
  },
  {
   "cell_type": "markdown",
   "id": "cc718062-4579-4cfd-b3d1-87195ca2b1d1",
   "metadata": {},
   "source": [
    "## Case No2\n",
    "\n",
    "8 executors\n",
    "2g memory\n",
    "1 core"
   ]
  },
  {
   "cell_type": "code",
   "execution_count": 50,
   "id": "e5819d5a-8cd3-4511-9e24-f8297907f9c6",
   "metadata": {
    "tags": []
   },
   "outputs": [
    {
     "data": {
      "application/vnd.jupyter.widget-view+json": {
       "model_id": "",
       "version_major": 2,
       "version_minor": 0
      },
      "text/plain": [
       "FloatProgress(value=0.0, bar_style='info', description='Progress:', layout=Layout(height='25px', width='50%'),…"
      ]
     },
     "metadata": {},
     "output_type": "display_data"
    }
   ],
   "source": [
    "# Start Spark Session\n",
    "spark = SparkSession.builder \\\n",
    "    .appName(\"Query 5\") \\\n",
    "    .config(\"spark.executor.instances\", \"8\") \\\n",
    "    .config(\"spark.executor.memory\", \"2g\") \\\n",
    "    .config(\"spark.executor.cores\", \"1\") \\\n",
    "    .getOrCreate()"
   ]
  },
  {
   "cell_type": "code",
   "execution_count": 90,
   "id": "233d9e70-ccef-4ce3-85c7-f7c8d7795610",
   "metadata": {
    "tags": []
   },
   "outputs": [
    {
     "data": {
      "application/vnd.jupyter.widget-view+json": {
       "model_id": "",
       "version_major": 2,
       "version_minor": 0
      },
      "text/plain": [
       "FloatProgress(value=0.0, bar_style='info', description='Progress:', layout=Layout(height='25px', width='50%'),…"
      ]
     },
     "metadata": {},
     "output_type": "display_data"
    }
   ],
   "source": [
    "# paths\n",
    "crime_data_2010_2019 = \"s3://initial-notebook-data-bucket-dblab-905418150721/CrimeData/Crime_Data_from_2010_to_2019_20241101.csv\"\n",
    "crime_data_2020 = \"s3://initial-notebook-data-bucket-dblab-905418150721/CrimeData/Crime_Data_from_2020_to_Present_20241101.csv\"\n",
    "police_stations = \"s3://initial-notebook-data-bucket-dblab-905418150721/LA_Police_Stations.csv\"\n",
    "\n",
    "# Load datasets\n",
    "crime_df = spark.read.csv(crime_data_2010_2019, header=True, inferSchema=True).union(\n",
    "    spark.read.csv(crime_data_2020, header=True, inferSchema=True))\n",
    "police_stations_df = spark.read.csv(police_stations, header=True, inferSchema=True)"
   ]
  },
  {
   "cell_type": "code",
   "execution_count": 91,
   "id": "caa65016-4285-4f01-b047-260412cf7558",
   "metadata": {
    "tags": []
   },
   "outputs": [
    {
     "data": {
      "application/vnd.jupyter.widget-view+json": {
       "model_id": "",
       "version_major": 2,
       "version_minor": 0
      },
      "text/plain": [
       "FloatProgress(value=0.0, bar_style='info', description='Progress:', layout=Layout(height='25px', width='50%'),…"
      ]
     },
     "metadata": {},
     "output_type": "display_data"
    },
    {
     "name": "stdout",
     "output_type": "stream",
     "text": [
      "root\n",
      " |-- DR_NO: integer (nullable = true)\n",
      " |-- Date Rptd: string (nullable = true)\n",
      " |-- DATE OCC: string (nullable = true)\n",
      " |-- TIME OCC: integer (nullable = true)\n",
      " |-- AREA : integer (nullable = true)\n",
      " |-- AREA NAME: string (nullable = true)\n",
      " |-- Rpt Dist No: integer (nullable = true)\n",
      " |-- Part 1-2: integer (nullable = true)\n",
      " |-- Crm Cd: integer (nullable = true)\n",
      " |-- Crm Cd Desc: string (nullable = true)\n",
      " |-- Mocodes: string (nullable = true)\n",
      " |-- Vict Age: integer (nullable = true)\n",
      " |-- Vict Sex: string (nullable = true)\n",
      " |-- Vict Descent: string (nullable = true)\n",
      " |-- Premis Cd: integer (nullable = true)\n",
      " |-- Premis Desc: string (nullable = true)\n",
      " |-- Weapon Used Cd: integer (nullable = true)\n",
      " |-- Weapon Desc: string (nullable = true)\n",
      " |-- Status: string (nullable = true)\n",
      " |-- Status Desc: string (nullable = true)\n",
      " |-- Crm Cd 1: integer (nullable = true)\n",
      " |-- Crm Cd 2: integer (nullable = true)\n",
      " |-- Crm Cd 3: integer (nullable = true)\n",
      " |-- Crm Cd 4: integer (nullable = true)\n",
      " |-- LOCATION: string (nullable = true)\n",
      " |-- Cross Street: string (nullable = true)\n",
      " |-- LAT: double (nullable = true)\n",
      " |-- LON: double (nullable = true)\n",
      " |-- geom: geometry (nullable = true)\n",
      "\n",
      "root\n",
      " |-- X: double (nullable = true)\n",
      " |-- Y: double (nullable = true)\n",
      " |-- FID: integer (nullable = true)\n",
      " |-- DIVISION: string (nullable = true)\n",
      " |-- LOCATION: string (nullable = true)\n",
      " |-- PREC: integer (nullable = true)\n",
      " |-- geom: geometry (nullable = true)"
     ]
    }
   ],
   "source": [
    "start_time_3 = time.time()\n",
    "\n",
    "# Create sedona context\n",
    "sedona = SedonaContext.create(spark)\n",
    "\n",
    "# Create geometry column for crimes\n",
    "crime_df = crime_df.withColumn(\"geom\", ST_Point(\"LON\", \"LAT\"))\n",
    "\n",
    "# Create geometry column for police stations\n",
    "police_stations_df = police_stations_df.withColumn(\"geom\", ST_Point(\"X\", \"Y\"))\n",
    "\n",
    "# Show updated schemas\n",
    "crime_df.printSchema()\n",
    "police_stations_df.printSchema()"
   ]
  },
  {
   "cell_type": "code",
   "execution_count": 92,
   "id": "ab3964c1-3803-4b91-985a-0544066be76d",
   "metadata": {
    "tags": []
   },
   "outputs": [
    {
     "data": {
      "application/vnd.jupyter.widget-view+json": {
       "model_id": "",
       "version_major": 2,
       "version_minor": 0
      },
      "text/plain": [
       "FloatProgress(value=0.0, bar_style='info', description='Progress:', layout=Layout(height='25px', width='50%'),…"
      ]
     },
     "metadata": {},
     "output_type": "display_data"
    },
    {
     "name": "stdout",
     "output_type": "stream",
     "text": [
      "+-------+--------------------+--------------------+--------+-----+---------+-----------+--------+------+--------------------+--------------+--------+--------+------------+---------+--------------------+--------------+-----------+------+------------+--------+--------+--------+--------+--------------------+------------+-------+---------+--------------------+--------------+----------------+---+-----------+--------------------+----+--------------------+------------------+\n",
      "|  DR_NO|           Date Rptd|            DATE OCC|TIME OCC|AREA |AREA NAME|Rpt Dist No|Part 1-2|Crm Cd|         Crm Cd Desc|       Mocodes|Vict Age|Vict Sex|Vict Descent|Premis Cd|         Premis Desc|Weapon Used Cd|Weapon Desc|Status| Status Desc|Crm Cd 1|Crm Cd 2|Crm Cd 3|Crm Cd 4|            LOCATION|Cross Street|    LAT|      LON|                geom|             X|               Y|FID|   DIVISION|            LOCATION|PREC|                geom|          distance|\n",
      "+-------+--------------------+--------------------+--------+-----+---------+-----------+--------+------+--------------------+--------------+--------+--------+------------+---------+--------------------+--------------+-----------+------+------------+--------+--------+--------+--------+--------------------+------------+-------+---------+--------------------+--------------+----------------+---+-----------+--------------------+----+--------------------+------------------+\n",
      "|1307355|02/20/2010 12:00:...|02/20/2010 12:00:...|    1350|   13|   Newton|       1385|       2|   900|VIOLATION OF COUR...|0913 1814 2000|      48|       M|           H|      501|SINGLE FAMILY DWE...|          NULL|       NULL|    AA|Adult Arrest|     900|    NULL|    NULL|    NULL|300 E  GAGE      ...|        NULL|33.9825|-118.2695|POINT (-118.2695 ...|-118.289241553|33.7576608970001|  1|     HARBOR|2175 JOHN S. GIBS...|   5|POINT (-118.28924...|25067.349236188526|\n",
      "|1307355|02/20/2010 12:00:...|02/20/2010 12:00:...|    1350|   13|   Newton|       1385|       2|   900|VIOLATION OF COUR...|0913 1814 2000|      48|       M|           H|      501|SINGLE FAMILY DWE...|          NULL|       NULL|    AA|Adult Arrest|     900|    NULL|    NULL|    NULL|300 E  GAGE      ...|        NULL|33.9825|-118.2695|POINT (-118.2695 ...|-118.275394206|33.9386273800001|  2|  SOUTHEAST|    145 W. 108TH ST.|  18|POINT (-118.27539...| 4908.612980951572|\n",
      "|1307355|02/20/2010 12:00:...|02/20/2010 12:00:...|    1350|   13|   Newton|       1385|       2|   900|VIOLATION OF COUR...|0913 1814 2000|      48|       M|           H|      501|SINGLE FAMILY DWE...|          NULL|       NULL|    AA|Adult Arrest|     900|    NULL|    NULL|    NULL|300 E  GAGE      ...|        NULL|33.9825|-118.2695|POINT (-118.2695 ...|-118.277669655|33.9703073800001|  3|77TH STREET|    7600 S. BROADWAY|  12|POINT (-118.27766...| 1550.995117379447|\n",
      "|1307355|02/20/2010 12:00:...|02/20/2010 12:00:...|    1350|   13|   Newton|       1385|       2|   900|VIOLATION OF COUR...|0913 1814 2000|      48|       M|           H|      501|SINGLE FAMILY DWE...|          NULL|       NULL|    AA|Adult Arrest|     900|    NULL|    NULL|    NULL|300 E  GAGE      ...|        NULL|33.9825|-118.2695|POINT (-118.2695 ...|-118.419841576|33.9916553210001|  4|    PACIFIC|  12312 CULVER BLVD.|  14|POINT (-118.41984...| 13898.66156416122|\n",
      "+-------+--------------------+--------------------+--------+-----+---------+-----------+--------+------+--------------------+--------------+--------+--------+------------+---------+--------------------+--------------+-----------+------+------------+--------+--------+--------+--------+--------------------+------------+-------+---------+--------------------+--------------+----------------+---+-----------+--------------------+----+--------------------+------------------+\n",
      "only showing top 4 rows"
     ]
    }
   ],
   "source": [
    "# Cross-join crimes and police stations to calculate distances\n",
    "crime_distances_df = crime_df.crossJoin(police_stations_df) \\\n",
    "    .withColumn(\"distance\", ST_DistanceSphere(crime_df[\"geom\"], police_stations_df[\"geom\"]))\n",
    "\n",
    "# Show the calculated distances\n",
    "crime_distances_df.show(4)\n"
   ]
  },
  {
   "cell_type": "code",
   "execution_count": 93,
   "id": "148cd8a3-7f8a-4b95-8081-4cc7c7a4f3c8",
   "metadata": {
    "tags": []
   },
   "outputs": [
    {
     "data": {
      "application/vnd.jupyter.widget-view+json": {
       "model_id": "",
       "version_major": 2,
       "version_minor": 0
      },
      "text/plain": [
       "FloatProgress(value=0.0, bar_style='info', description='Progress:', layout=Layout(height='25px', width='50%'),…"
      ]
     },
     "metadata": {},
     "output_type": "display_data"
    },
    {
     "name": "stdout",
     "output_type": "stream",
     "text": [
      "+---------+---------+------------------+\n",
      "|    DR_NO| DIVISION|          distance|\n",
      "+---------+---------+------------------+\n",
      "| 91231932|SOUTHWEST|2257.2533220281193|\n",
      "|100100523|  CENTRAL| 1300.733040644066|\n",
      "|100100608|  RAMPART|1140.0611312527299|\n",
      "|100100751|  CENTRAL|221.00932828621197|\n",
      "|100100853|  CENTRAL|1089.0413188582168|\n",
      "|100100857|  CENTRAL| 698.8861729382769|\n",
      "|100100925|  CENTRAL| 271.6366601173468|\n",
      "|100100950|  CENTRAL| 521.3846970614009|\n",
      "|100100980|  CENTRAL| 724.6837344896162|\n",
      "|100101125|  CENTRAL| 674.4711458026111|\n",
      "|100101136|  CENTRAL|1983.2012674561922|\n",
      "|100101283|  CENTRAL| 313.3676894974406|\n",
      "|100101422|  CENTRAL| 911.6183493737415|\n",
      "|100101429|  CENTRAL| 552.5738180020111|\n",
      "|100101685|  CENTRAL|1721.0833118567502|\n",
      "|100104055|  CENTRAL|431.77897375232095|\n",
      "|100104099|  CENTRAL| 271.6366601173468|\n",
      "|100104146|  CENTRAL| 526.1458976350942|\n",
      "|100104254|  CENTRAL| 271.6366601173468|\n",
      "|100104272|  CENTRAL| 886.7059823960111|\n",
      "+---------+---------+------------------+\n",
      "only showing top 20 rows"
     ]
    }
   ],
   "source": [
    "from pyspark.sql.window import Window\n",
    "from pyspark.sql.functions import row_number\n",
    "\n",
    "# Create a window partitioned by crime DR_NO, ordered by distance\n",
    "window_spec = Window.partitionBy(\"DR_NO\").orderBy(\"distance\")\n",
    "\n",
    "# Select the closest police station for each crime\n",
    "closest_station_df = crime_distances_df.withColumn(\"rank\", row_number().over(window_spec)) \\\n",
    "    .filter(col(\"rank\") == 1) \\\n",
    "    .select(\"DR_NO\", \"DIVISION\", \"distance\")\n",
    "\n",
    "# Show the closest police stations\n",
    "closest_station_df.show()\n"
   ]
  },
  {
   "cell_type": "code",
   "execution_count": 94,
   "id": "089018ed-4d48-431d-b888-afe6a38002f8",
   "metadata": {
    "tags": []
   },
   "outputs": [
    {
     "data": {
      "application/vnd.jupyter.widget-view+json": {
       "model_id": "",
       "version_major": 2,
       "version_minor": 0
      },
      "text/plain": [
       "FloatProgress(value=0.0, bar_style='info', description='Progress:', layout=Layout(height='25px', width='50%'),…"
      ]
     },
     "metadata": {},
     "output_type": "display_data"
    },
    {
     "name": "stdout",
     "output_type": "stream",
     "text": [
      "+----------------+------------------+----------------+\n",
      "|        DIVISION|  Average_Distance|Number_of_Crimes|\n",
      "+----------------+------------------+----------------+\n",
      "|       HOLLYWOOD|2076.2639601787287|          224340|\n",
      "|        VAN NUYS| 2953.369742819791|          210134|\n",
      "|       SOUTHWEST| 2191.398805780876|          188901|\n",
      "|        WILSHIRE|2592.6655329787786|          185996|\n",
      "|     77TH STREET|1716.5449719701082|          171827|\n",
      "|         OLYMPIC|1723.6036971780966|          170897|\n",
      "| NORTH HOLLYWOOD|2643.0060941415677|          167854|\n",
      "|         PACIFIC| 3850.070655307912|          161359|\n",
      "|         CENTRAL| 992.4764374568799|          153871|\n",
      "|         RAMPART|1534.5341879190166|          152736|\n",
      "|       SOUTHEAST|2421.8662158881816|          152176|\n",
      "|     WEST VALLEY|  3035.67121631406|          138643|\n",
      "|         TOPANGA|3296.9548417555843|          138217|\n",
      "|        FOOTHILL| 4250.921708425002|          134896|\n",
      "|          HARBOR| 3702.561599356499|          126747|\n",
      "|      HOLLENBECK|366921.30446148856|          119294|\n",
      "|WEST LOS ANGELES|2792.4572890341096|          115781|\n",
      "|          NEWTON|1634.6357397097424|          111110|\n",
      "|       NORTHEAST|  3623.66552460408|          108109|\n",
      "|         MISSION| 3690.942614278604|          103355|\n",
      "+----------------+------------------+----------------+\n",
      "only showing top 20 rows"
     ]
    }
   ],
   "source": [
    "from pyspark.sql.functions import avg, count, col\n",
    "\n",
    "# Aggregate crimes and distances by police station\n",
    "station_crime_stats_df = closest_station_df.groupBy(\"DIVISION\") \\\n",
    "    .agg(\n",
    "        count(\"DR_NO\").alias(\"Number_of_Crimes\"),\n",
    "        avg(\"distance\").alias(\"Average_Distance\")\n",
    "    ) \\\n",
    "    .orderBy(col(\"Number_of_Crimes\").desc())\n",
    "\n",
    "# Reorder the columns\n",
    "station_crime_stats_df = station_crime_stats_df.select(\n",
    "    \"DIVISION\",\n",
    "    \"Average_Distance\",\n",
    "    \"Number_of_Crimes\"\n",
    ")\n",
    "\n",
    "# Show the final results\n",
    "station_crime_stats_df.show()\n",
    "\n",
    "end_time_3 = time.time()"
   ]
  },
  {
   "cell_type": "code",
   "execution_count": 95,
   "id": "bbb60676-2a43-413a-b8a9-122aee084bef",
   "metadata": {
    "tags": []
   },
   "outputs": [
    {
     "data": {
      "application/vnd.jupyter.widget-view+json": {
       "model_id": "",
       "version_major": 2,
       "version_minor": 0
      },
      "text/plain": [
       "FloatProgress(value=0.0, bar_style='info', description='Progress:', layout=Layout(height='25px', width='50%'),…"
      ]
     },
     "metadata": {},
     "output_type": "display_data"
    },
    {
     "name": "stdout",
     "output_type": "stream",
     "text": [
      "8 executors 2g memory 1 core: 16.92 seconds"
     ]
    }
   ],
   "source": [
    "elapsed_time_8_2_1 = end_time_3 - start_time_3\n",
    "print(f\"8 executors 2g memory 1 core: {elapsed_time_8_2_1:.2f} seconds\")"
   ]
  },
  {
   "cell_type": "markdown",
   "id": "8db62779-20b3-4a2d-bee4-ed113392f226",
   "metadata": {},
   "source": [
    "## Comparison"
   ]
  },
  {
   "cell_type": "code",
   "execution_count": 96,
   "id": "b72c7b5c-ad0a-41d2-9ac9-08a7a9537a7d",
   "metadata": {
    "tags": []
   },
   "outputs": [
    {
     "data": {
      "application/vnd.jupyter.widget-view+json": {
       "model_id": "",
       "version_major": 2,
       "version_minor": 0
      },
      "text/plain": [
       "FloatProgress(value=0.0, bar_style='info', description='Progress:', layout=Layout(height='25px', width='50%'),…"
      ]
     },
     "metadata": {},
     "output_type": "display_data"
    },
    {
     "name": "stdout",
     "output_type": "stream",
     "text": [
      "2 executors 8g memory 4 core: 43.96 seconds\n",
      "4 executors 4g memory 2 core: 21.06 seconds\n",
      "8 executors 2g memory 1 core: 16.92 seconds"
     ]
    }
   ],
   "source": [
    "print(f\"2 executors 8g memory 4 core: {elapsed_time_2_8_4:.2f} seconds\")\n",
    "print(f\"4 executors 4g memory 2 core: {elapsed_time_4_4_2:.2f} seconds\")\n",
    "print(f\"8 executors 2g memory 1 core: {elapsed_time_8_2_1:.2f} seconds\")"
   ]
  },
  {
   "cell_type": "code",
   "execution_count": 97,
   "id": "3019f974-f57f-4370-8470-5b89b29f9e3a",
   "metadata": {
    "tags": []
   },
   "outputs": [
    {
     "data": {
      "application/vnd.jupyter.widget-view+json": {
       "model_id": "",
       "version_major": 2,
       "version_minor": 0
      },
      "text/plain": [
       "FloatProgress(value=0.0, bar_style='info', description='Progress:', layout=Layout(height='25px', width='50%'),…"
      ]
     },
     "metadata": {},
     "output_type": "display_data"
    },
    {
     "name": "stdout",
     "output_type": "stream",
     "text": [
      "The minimum elapsed time is:  16.915506601333618"
     ]
    }
   ],
   "source": [
    "# Find the minimum elapsed time\n",
    "min_elapsed_time = min(elapsed_time_2_8_4, elapsed_time_4_4_2, elapsed_time_8_2_1)\n",
    "\n",
    "# Print the minimum elapsed time\n",
    "print(f\"The minimum elapsed time is:  {min_elapsed_time}\")\n"
   ]
  },
  {
   "cell_type": "code",
   "execution_count": null,
   "id": "7f479a54-fe08-4006-b6c6-a7fbc3b0f47b",
   "metadata": {},
   "outputs": [],
   "source": []
  }
 ],
 "metadata": {
  "kernelspec": {
   "display_name": "Sparkmagic (PySpark)",
   "language": "python",
   "name": "pysparkkernel"
  },
  "language_info": {
   "codemirror_mode": {
    "name": "python",
    "version": 3
   },
   "file_extension": ".py",
   "mimetype": "text/x-python",
   "name": "pyspark",
   "pygments_lexer": "python3"
  }
 },
 "nbformat": 4,
 "nbformat_minor": 5
}
