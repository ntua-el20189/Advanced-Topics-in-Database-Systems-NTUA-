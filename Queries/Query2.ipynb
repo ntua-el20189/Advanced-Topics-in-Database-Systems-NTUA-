{
 "cells": [
  {
   "cell_type": "code",
   "execution_count": 1,
   "id": "22812089-1647-4b72-b806-3b90bd3df40a",
   "metadata": {
    "tags": []
   },
   "outputs": [
    {
     "name": "stdout",
     "output_type": "stream",
     "text": [
      "Starting Spark application\n"
     ]
    },
    {
     "data": {
      "text/html": [
       "<table>\n",
       "<tr><th>ID</th><th>YARN Application ID</th><th>Kind</th><th>State</th><th>Spark UI</th><th>Driver log</th><th>User</th><th>Current session?</th></tr><tr><td>1392</td><td>application_1732639283265_1354</td><td>pyspark</td><td>idle</td><td><a target=\"_blank\" href=\"http://ip-192-168-1-36.eu-central-1.compute.internal:20888/proxy/application_1732639283265_1354/\">Link</a></td><td><a target=\"_blank\" href=\"http://ip-192-168-1-174.eu-central-1.compute.internal:8042/node/containerlogs/container_1732639283265_1354_01_000001/livy\">Link</a></td><td>None</td><td>✔</td></tr></table>"
      ],
      "text/plain": [
       "<IPython.core.display.HTML object>"
      ]
     },
     "metadata": {},
     "output_type": "display_data"
    },
    {
     "data": {
      "application/vnd.jupyter.widget-view+json": {
       "model_id": "",
       "version_major": 2,
       "version_minor": 0
      },
      "text/plain": [
       "FloatProgress(value=0.0, bar_style='info', description='Progress:', layout=Layout(height='25px', width='50%'),…"
      ]
     },
     "metadata": {},
     "output_type": "display_data"
    },
    {
     "name": "stdout",
     "output_type": "stream",
     "text": [
      "SparkSession available as 'spark'.\n"
     ]
    },
    {
     "data": {
      "application/vnd.jupyter.widget-view+json": {
       "model_id": "",
       "version_major": 2,
       "version_minor": 0
      },
      "text/plain": [
       "FloatProgress(value=0.0, bar_style='info', description='Progress:', layout=Layout(height='25px', width='50%'),…"
      ]
     },
     "metadata": {},
     "output_type": "display_data"
    }
   ],
   "source": [
    "# imports\n",
    "import time\n",
    "\n",
    "import pyspark\n",
    "from pyspark.sql import SparkSession\n",
    "from pyspark.sql.functions import col, when, count, desc, lit, rank, sum as _sum\n",
    "from pyspark.sql.types import *\n",
    "from pyspark.sql.window import Window\n",
    "\n",
    "# Start Spark Session\n",
    "spark = SparkSession.builder \\\n",
    "    .appName(\"Query 2\") \\\n",
    "    .config(\"spark.executor.memory\", \"4g\") \\\n",
    "    .config(\"spark.executor.cores\", \"4\") \\\n",
    "    .getOrCreate()"
   ]
  },
  {
   "cell_type": "code",
   "execution_count": 9,
   "id": "eed9d7df-5eaa-4a40-ba2d-8be9e83ff5ba",
   "metadata": {
    "tags": []
   },
   "outputs": [
    {
     "data": {
      "application/vnd.jupyter.widget-view+json": {
       "model_id": "",
       "version_major": 2,
       "version_minor": 0
      },
      "text/plain": [
       "FloatProgress(value=0.0, bar_style='info', description='Progress:', layout=Layout(height='25px', width='50%'),…"
      ]
     },
     "metadata": {},
     "output_type": "display_data"
    }
   ],
   "source": [
    "# paths\n",
    "crime_data_2010_2019 = \"s3://initial-notebook-data-bucket-dblab-905418150721/CrimeData/Crime_Data_from_2010_to_2019_20241101.csv\"\n",
    "crime_data_2020 = \"s3://initial-notebook-data-bucket-dblab-905418150721/CrimeData/Crime_Data_from_2020_to_Present_20241101.csv\"\n",
    "\n",
    "# Load datasets\n",
    "crime_data = spark.read.csv(crime_data_2010_2019, header=True, inferSchema=True).union(\n",
    "    spark.read.csv(crime_data_2020, header=True, inferSchema=True))"
   ]
  },
  {
   "cell_type": "code",
   "execution_count": 10,
   "id": "0f0cd87a-b2b2-471f-a37c-dbb0509517b9",
   "metadata": {
    "tags": []
   },
   "outputs": [
    {
     "data": {
      "application/vnd.jupyter.widget-view+json": {
       "model_id": "",
       "version_major": 2,
       "version_minor": 0
      },
      "text/plain": [
       "FloatProgress(value=0.0, bar_style='info', description='Progress:', layout=Layout(height='25px', width='50%'),…"
      ]
     },
     "metadata": {},
     "output_type": "display_data"
    },
    {
     "name": "stdout",
     "output_type": "stream",
     "text": [
      "+-----------+----+------------------+----+\n",
      "|AREA NAME  |Year|Closed_Case_Rate  |Rank|\n",
      "+-----------+----+------------------+----+\n",
      "|Rampart    |2010|32.947355855318136|1   |\n",
      "|Olympic    |2010|31.962706191728422|2   |\n",
      "|Harbor     |2010|29.63203463203463 |3   |\n",
      "|Olympic    |2011|35.212167689161554|1   |\n",
      "|Rampart    |2011|32.511779630300836|2   |\n",
      "|Harbor     |2011|28.652205202015008|3   |\n",
      "|Olympic    |2012|34.414818310523835|1   |\n",
      "|Rampart    |2012|32.9464181029429  |2   |\n",
      "|Harbor     |2012|29.815133276010318|3   |\n",
      "|Olympic    |2013|33.52812271731191 |1   |\n",
      "|Rampart    |2013|32.08287360549221 |2   |\n",
      "|Harbor     |2013|29.16422459266206 |3   |\n",
      "|Van Nuys   |2014|31.80567315834039 |1   |\n",
      "|West Valley|2014|31.31198995605775 |2   |\n",
      "|Mission    |2014|31.16279069767442 |3   |\n",
      "|Van Nuys   |2015|32.64134698172773 |1   |\n",
      "|West Valley|2015|30.27597402597403 |2   |\n",
      "|Mission    |2015|30.179460678380153|3   |\n",
      "|Van Nuys   |2016|31.880755720117726|1   |\n",
      "|West Valley|2016|31.54798761609907 |2   |\n",
      "|Foothill   |2016|29.870291843352458|3   |\n",
      "|Van Nuys   |2017|32.02034211742949 |1   |\n",
      "|Mission    |2017|31.03892518634398 |2   |\n",
      "|Foothill   |2017|30.469226081657524|3   |\n",
      "|Foothill   |2018|30.708950655075302|1   |\n",
      "|Mission    |2018|30.690661478599225|2   |\n",
      "|Van Nuys   |2018|29.078685730517943|3   |\n",
      "|West Valley|2019|30.77447195094254 |1   |\n",
      "|Mission    |2019|30.748519116855142|2   |\n",
      "|Foothill   |2019|29.53842186694172 |3   |\n",
      "|West Valley|2020|31.144886009717204|1   |\n",
      "|Mission    |2020|30.38777908343126 |2   |\n",
      "|Harbor     |2020|29.880657509569918|3   |\n",
      "|Mission    |2021|30.91391367253436 |1   |\n",
      "|West Valley|2021|28.877503493246394|2   |\n",
      "|Foothill   |2021|28.464788732394364|3   |\n",
      "|West Valley|2022|26.64366494153728 |1   |\n",
      "|Harbor     |2022|26.334056399132322|2   |\n",
      "|Topanga    |2022|26.27340236376948 |3   |\n",
      "|Foothill   |2023|26.8215994531784  |1   |\n",
      "|Topanga    |2023|26.407806464728605|2   |\n",
      "|Mission    |2023|25.941195616795053|3   |\n",
      "|N Hollywood|2024|19.514978601997147|1   |\n",
      "|Foothill   |2024|18.531827515400412|2   |\n",
      "|77th Street|2024|17.349137931034484|3   |\n",
      "+-----------+----+------------------+----+\n",
      "\n",
      "DataFrame Implementation Time: 13.37 seconds"
     ]
    }
   ],
   "source": [
    "# Start timing\n",
    "start_time_df = time.time()\n",
    "\n",
    "# Create a new column to identify closed cases \n",
    "closed_cases_df = crime_data.withColumn(\n",
    "    \"Is_Closed\",\n",
    "    when((col(\"Status Desc\") != \"UNK\") & (col(\"Status Desc\") != \"Invest Cont\"), lit(1)).otherwise(lit(0))\n",
    ")\n",
    "\n",
    "# Extract the year from the \"Date Rptd\" column\n",
    "closed_cases_df = closed_cases_df.withColumn(\"Year\", col(\"Date Rptd\").substr(7, 4).alias(\"Year\"))\n",
    "\n",
    "# Group by precinct and year, calculate closure rates\n",
    "closure_rate_df = closed_cases_df.groupBy(\"AREA NAME\", \"Year\") \\\n",
    "    .agg(\n",
    "        (count(when(col(\"Is_Closed\") == 1, 1)) / count(\"*\") * 100).alias(\"Closed_Case_Rate\")\n",
    "    )\n",
    "\n",
    "# Define a window specification for ranking precincts by closure rate within each year\n",
    "window_spec = Window.partitionBy(\"Year\").orderBy(col(\"Closed_Case_Rate\").desc())\n",
    "ranked_closure_rate_df = closure_rate_df.withColumn(\"Rank\", rank().over(window_spec))\n",
    "\n",
    "# Filter for top 3 precincts per year and sort by year and rank\n",
    "top_closure_rate_df = ranked_closure_rate_df.filter(col(\"Rank\") <= 3).orderBy(\"Year\", \"Rank\")\n",
    "\n",
    "# Show the results\n",
    "top_closure_rate_df.show(truncate=False, n=top_closure_rate_df.count())\n",
    "\n",
    "# End timing\n",
    "end_time_df = time.time()\n",
    "elapsed_time_df = end_time_df - start_time_df\n",
    "print(f\"DataFrame Implementation Time: {elapsed_time_df:.2f} seconds\")"
   ]
  },
  {
   "cell_type": "code",
   "execution_count": 11,
   "id": "143fc2a6-793e-49a1-9fd7-6d017177e3fe",
   "metadata": {
    "tags": []
   },
   "outputs": [
    {
     "data": {
      "application/vnd.jupyter.widget-view+json": {
       "model_id": "",
       "version_major": 2,
       "version_minor": 0
      },
      "text/plain": [
       "FloatProgress(value=0.0, bar_style='info', description='Progress:', layout=Layout(height='25px', width='50%'),…"
      ]
     },
     "metadata": {},
     "output_type": "display_data"
    },
    {
     "name": "stdout",
     "output_type": "stream",
     "text": [
      "+----+-----------+------------------+----+\n",
      "|Year|Precinct   |Closed_Case_Rate  |Rank|\n",
      "+----+-----------+------------------+----+\n",
      "|2010|Rampart    |32.947355855318136|1   |\n",
      "|2010|Olympic    |31.962706191728422|2   |\n",
      "|2010|Harbor     |29.63203463203463 |3   |\n",
      "|2011|Olympic    |35.212167689161554|1   |\n",
      "|2011|Rampart    |32.511779630300836|2   |\n",
      "|2011|Harbor     |28.652205202015008|3   |\n",
      "|2012|Olympic    |34.414818310523835|1   |\n",
      "|2012|Rampart    |32.9464181029429  |2   |\n",
      "|2012|Harbor     |29.815133276010318|3   |\n",
      "|2013|Olympic    |33.52812271731191 |1   |\n",
      "|2013|Rampart    |32.08287360549221 |2   |\n",
      "|2013|Harbor     |29.16422459266206 |3   |\n",
      "|2014|Van Nuys   |31.80567315834039 |1   |\n",
      "|2014|West Valley|31.31198995605775 |2   |\n",
      "|2014|Mission    |31.16279069767442 |3   |\n",
      "|2015|Van Nuys   |32.64134698172773 |1   |\n",
      "|2015|West Valley|30.27597402597403 |2   |\n",
      "|2015|Mission    |30.179460678380153|3   |\n",
      "|2016|Van Nuys   |31.880755720117726|1   |\n",
      "|2016|West Valley|31.54798761609907 |2   |\n",
      "|2016|Foothill   |29.870291843352458|3   |\n",
      "|2017|Van Nuys   |32.02034211742949 |1   |\n",
      "|2017|Mission    |31.03892518634398 |2   |\n",
      "|2017|Foothill   |30.469226081657524|3   |\n",
      "|2018|Foothill   |30.708950655075302|1   |\n",
      "|2018|Mission    |30.690661478599225|2   |\n",
      "|2018|Van Nuys   |29.078685730517943|3   |\n",
      "|2019|West Valley|30.77447195094254 |1   |\n",
      "|2019|Mission    |30.748519116855142|2   |\n",
      "|2019|Foothill   |29.53842186694172 |3   |\n",
      "|2020|West Valley|31.144886009717204|1   |\n",
      "|2020|Mission    |30.38777908343126 |2   |\n",
      "|2020|Harbor     |29.880657509569918|3   |\n",
      "|2021|Mission    |30.91391367253436 |1   |\n",
      "|2021|West Valley|28.877503493246394|2   |\n",
      "|2021|Foothill   |28.464788732394364|3   |\n",
      "|2022|West Valley|26.64366494153728 |1   |\n",
      "|2022|Harbor     |26.334056399132322|2   |\n",
      "|2022|Topanga    |26.27340236376948 |3   |\n",
      "|2023|Foothill   |26.8215994531784  |1   |\n",
      "|2023|Topanga    |26.407806464728605|2   |\n",
      "|2023|Mission    |25.941195616795053|3   |\n",
      "|2024|N Hollywood|19.514978601997147|1   |\n",
      "|2024|Foothill   |18.531827515400412|2   |\n",
      "|2024|77th Street|17.349137931034484|3   |\n",
      "+----+-----------+------------------+----+\n",
      "\n",
      "SQL Implementation Time: 8.28 seconds"
     ]
    }
   ],
   "source": [
    "# Register the DataFrame as a temporary SQL table\n",
    "crime_data.createOrReplaceTempView(\"crime_data\")\n",
    "\n",
    "# Start timing\n",
    "start_time_sql = time.time()\n",
    "\n",
    "# SQL query to calculate closure rates, rank, and filter for top 3 per year\n",
    "sql_query = \"\"\"\n",
    "        SELECT \n",
    "        Year,\n",
    "        `AREA NAME` AS Precinct,\n",
    "        Closed_Case_Rate,\n",
    "        Rank\n",
    "    FROM (\n",
    "        SELECT\n",
    "            substr(`Date Rptd`, 7, 4) AS Year,\n",
    "            `AREA NAME`, \n",
    "            (COUNT(CASE WHEN `Status Desc` != 'UNK' AND `Status Desc` != 'Invest Cont' THEN 1 END) / COUNT(*) * 100) AS Closed_Case_Rate,\n",
    "            RANK() OVER (\n",
    "                PARTITION BY substr(`Date Rptd`, 7, 4)\n",
    "                ORDER BY (COUNT(CASE WHEN `Status Desc` != 'UNK' AND `Status Desc` != 'Invest Cont' THEN 1 END) / COUNT(*) * 100) DESC\n",
    "            ) AS Rank\n",
    "        FROM crime_data\n",
    "        GROUP BY\n",
    "            `AREA NAME`,\n",
    "            substr(`Date Rptd`, 7, 4)\n",
    "    ) ranked_data\n",
    "    WHERE Rank <= 3\n",
    "    ORDER BY Year, Rank\n",
    "\"\"\"\n",
    "\n",
    "# Execute the SQL query\n",
    "top_closure_rate_sql_df = spark.sql(sql_query)\n",
    "\n",
    "\n",
    "# Show results\n",
    "top_closure_rate_sql_df.show(truncate=False, n=top_closure_rate_df.count())\n",
    "\n",
    "# End timing\n",
    "end_time_sql = time.time()\n",
    "elapsed_time_sql = end_time_sql - start_time_sql\n",
    "print(f\"SQL Implementation Time: {elapsed_time_sql:.2f} seconds\")"
   ]
  },
  {
   "cell_type": "code",
   "execution_count": 12,
   "id": "c2f8d1fc-73df-4818-b9cc-a0ab98ca992b",
   "metadata": {
    "tags": []
   },
   "outputs": [
    {
     "data": {
      "application/vnd.jupyter.widget-view+json": {
       "model_id": "",
       "version_major": 2,
       "version_minor": 0
      },
      "text/plain": [
       "FloatProgress(value=0.0, bar_style='info', description='Progress:', layout=Layout(height='25px', width='50%'),…"
      ]
     },
     "metadata": {},
     "output_type": "display_data"
    },
    {
     "name": "stdout",
     "output_type": "stream",
     "text": [
      "Crime dataset saved as Parquet."
     ]
    }
   ],
   "source": [
    "group_number = \"11\"\n",
    "s3_path = \"s3://groups-bucket-dblab-905418150721/group\"+group_number+\"/parquet/\"\n",
    "\n",
    "crime_data_parquet = crime_data\n",
    "\n",
    "# Save the dataset as a single Parquet file in the specified S3 bucket\n",
    "crime_data_parquet.write.mode(\"overwrite\").parquet(s3_path)\n",
    "print(\"Crime dataset saved as Parquet.\")\n"
   ]
  },
  {
   "cell_type": "code",
   "execution_count": 13,
   "id": "a60e67b3-e442-43b2-af7f-70b14b4d8abc",
   "metadata": {
    "tags": []
   },
   "outputs": [
    {
     "data": {
      "application/vnd.jupyter.widget-view+json": {
       "model_id": "",
       "version_major": 2,
       "version_minor": 0
      },
      "text/plain": [
       "FloatProgress(value=0.0, bar_style='info', description='Progress:', layout=Layout(height='25px', width='50%'),…"
      ]
     },
     "metadata": {},
     "output_type": "display_data"
    },
    {
     "name": "stdout",
     "output_type": "stream",
     "text": [
      "CSV Load Time: 3.95 seconds\n",
      "Parquet Load Time: 0.33 seconds"
     ]
    }
   ],
   "source": [
    "# Load data from CSV\n",
    "start_time_csv = time.time()\n",
    "crime_csv_df = spark.read.csv(crime_data_2010_2019, header=True, inferSchema=True).union(\n",
    "    spark.read.csv(crime_data_2020, header=True, inferSchema=True))\n",
    "# crime_csv_df.show(1)\n",
    "end_time_csv = time.time()\n",
    "elapsed_time_csv = end_time_csv - start_time_csv\n",
    "print(f\"CSV Load Time: {elapsed_time_csv:.2f} seconds\")\n",
    "\n",
    "# Load data from Parquet\n",
    "start_time_parquet = time.time()\n",
    "crime_parquet_df = spark.read.parquet(s3_path)\n",
    "# crime_parquet_df.show(1)\n",
    "end_time_parquet = time.time()\n",
    "elapsed_time_parquet = end_time_parquet - start_time_parquet\n",
    "print(f\"Parquet Load Time: {elapsed_time_parquet:.2f} seconds\")\n"
   ]
  },
  {
   "cell_type": "code",
   "execution_count": 14,
   "id": "40fda5c6-9eb2-41aa-ab71-3406a90f775d",
   "metadata": {
    "tags": []
   },
   "outputs": [
    {
     "data": {
      "application/vnd.jupyter.widget-view+json": {
       "model_id": "",
       "version_major": 2,
       "version_minor": 0
      },
      "text/plain": [
       "FloatProgress(value=0.0, bar_style='info', description='Progress:', layout=Layout(height='25px', width='50%'),…"
      ]
     },
     "metadata": {},
     "output_type": "display_data"
    },
    {
     "name": "stdout",
     "output_type": "stream",
     "text": [
      "+-----------+----+------------------+----+\n",
      "|AREA NAME  |Year|Closed_Case_Rate  |Rank|\n",
      "+-----------+----+------------------+----+\n",
      "|Rampart    |2010|32.947355855318136|1   |\n",
      "|Olympic    |2010|31.962706191728422|2   |\n",
      "|Harbor     |2010|29.63203463203463 |3   |\n",
      "|Olympic    |2011|35.212167689161554|1   |\n",
      "|Rampart    |2011|32.511779630300836|2   |\n",
      "|Harbor     |2011|28.652205202015008|3   |\n",
      "|Olympic    |2012|34.414818310523835|1   |\n",
      "|Rampart    |2012|32.9464181029429  |2   |\n",
      "|Harbor     |2012|29.815133276010318|3   |\n",
      "|Olympic    |2013|33.52812271731191 |1   |\n",
      "|Rampart    |2013|32.08287360549221 |2   |\n",
      "|Harbor     |2013|29.16422459266206 |3   |\n",
      "|Van Nuys   |2014|31.80567315834039 |1   |\n",
      "|West Valley|2014|31.31198995605775 |2   |\n",
      "|Mission    |2014|31.16279069767442 |3   |\n",
      "|Van Nuys   |2015|32.64134698172773 |1   |\n",
      "|West Valley|2015|30.27597402597403 |2   |\n",
      "|Mission    |2015|30.179460678380153|3   |\n",
      "|Van Nuys   |2016|31.880755720117726|1   |\n",
      "|West Valley|2016|31.54798761609907 |2   |\n",
      "|Foothill   |2016|29.870291843352458|3   |\n",
      "|Van Nuys   |2017|32.02034211742949 |1   |\n",
      "|Mission    |2017|31.03892518634398 |2   |\n",
      "|Foothill   |2017|30.469226081657524|3   |\n",
      "|Foothill   |2018|30.708950655075302|1   |\n",
      "|Mission    |2018|30.690661478599225|2   |\n",
      "|Van Nuys   |2018|29.078685730517943|3   |\n",
      "|West Valley|2019|30.77447195094254 |1   |\n",
      "|Mission    |2019|30.748519116855142|2   |\n",
      "|Foothill   |2019|29.53842186694172 |3   |\n",
      "|West Valley|2020|31.144886009717204|1   |\n",
      "|Mission    |2020|30.38777908343126 |2   |\n",
      "|Harbor     |2020|29.880657509569918|3   |\n",
      "|Mission    |2021|30.91391367253436 |1   |\n",
      "|West Valley|2021|28.877503493246394|2   |\n",
      "|Foothill   |2021|28.464788732394364|3   |\n",
      "|West Valley|2022|26.64366494153728 |1   |\n",
      "|Harbor     |2022|26.334056399132322|2   |\n",
      "|Topanga    |2022|26.27340236376948 |3   |\n",
      "|Foothill   |2023|26.8215994531784  |1   |\n",
      "|Topanga    |2023|26.407806464728605|2   |\n",
      "|Mission    |2023|25.941195616795053|3   |\n",
      "|N Hollywood|2024|19.514978601997147|1   |\n",
      "|Foothill   |2024|18.531827515400412|2   |\n",
      "|77th Street|2024|17.349137931034484|3   |\n",
      "+-----------+----+------------------+----+\n",
      "\n",
      "DataFrame (Parquet) Implementation Time: 3.30 seconds"
     ]
    }
   ],
   "source": [
    "# Start timing\n",
    "start_time_df_parq = time.time()\n",
    "\n",
    "# Create a new column to identify closed cases \n",
    "closed_cases_df_parq = crime_parquet_df.withColumn(\n",
    "    \"Is_Closed\",\n",
    "    when((col(\"Status Desc\") != \"UNK\") & (col(\"Status Desc\") != \"Invest Cont\"), lit(1)).otherwise(lit(0))\n",
    ")\n",
    "# Extract the year from the \"Date Rptd\" column\n",
    "closed_cases_df_parq = closed_cases_df_parq.withColumn(\"Year\", col(\"Date Rptd\").substr(7, 4).alias(\"Year\"))\n",
    "\n",
    "# Group by precinct and year, calculate closure rates\n",
    "closure_rate_df_parq = closed_cases_df_parq.groupBy(\"AREA NAME\", \"Year\") \\\n",
    "    .agg(\n",
    "        (count(when(col(\"Is_Closed\") == 1, 1)) / count(\"*\") * 100).alias(\"Closed_Case_Rate\")\n",
    "    )\n",
    "\n",
    "# Define a window specification for ranking precincts by closure rate within each year\n",
    "window_spec = Window.partitionBy(\"Year\").orderBy(col(\"Closed_Case_Rate\").desc())\n",
    "ranked_closure_rate_df_parq = closure_rate_df_parq.withColumn(\"Rank\", rank().over(window_spec))\n",
    "\n",
    "# Filter for top 3 precincts per year and sort by year and rank\n",
    "top_closure_rate_df_parq = ranked_closure_rate_df_parq.filter(col(\"Rank\") <= 3).orderBy(\"Year\", \"Rank\")\n",
    "\n",
    "# Show the results\n",
    "top_closure_rate_df_parq.show(truncate=False, n=top_closure_rate_df.count())\n",
    "\n",
    "# End timing\n",
    "end_time_df_parq = time.time()\n",
    "elapsed_time_df_parq = end_time_df_parq - start_time_df_parq\n",
    "print(f\"DataFrame (Parquet) Implementation Time: {elapsed_time_df_parq:.2f} seconds\")"
   ]
  },
  {
   "cell_type": "code",
   "execution_count": null,
   "id": "915558f0-c55a-4b77-8a70-af543d064053",
   "metadata": {},
   "outputs": [],
   "source": []
  }
 ],
 "metadata": {
  "kernelspec": {
   "display_name": "Sparkmagic (PySpark)",
   "language": "python",
   "name": "pysparkkernel"
  },
  "language_info": {
   "codemirror_mode": {
    "name": "python",
    "version": 3
   },
   "file_extension": ".py",
   "mimetype": "text/x-python",
   "name": "pyspark",
   "pygments_lexer": "python3"
  }
 },
 "nbformat": 4,
 "nbformat_minor": 5
}
