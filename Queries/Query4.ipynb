{
 "cells": [
  {
   "cell_type": "code",
   "execution_count": 1,
   "id": "4759b9a4-4799-4ac5-8315-81606f2b12e3",
   "metadata": {
    "tags": []
   },
   "outputs": [
    {
     "name": "stdout",
     "output_type": "stream",
     "text": [
      "Starting Spark application\n"
     ]
    },
    {
     "data": {
      "text/html": [
       "<table>\n",
       "<tr><th>ID</th><th>YARN Application ID</th><th>Kind</th><th>State</th><th>Spark UI</th><th>Driver log</th><th>User</th><th>Current session?</th></tr><tr><td>2779</td><td>application_1732639283265_2738</td><td>pyspark</td><td>idle</td><td><a target=\"_blank\" href=\"http://ip-192-168-1-36.eu-central-1.compute.internal:20888/proxy/application_1732639283265_2738/\">Link</a></td><td><a target=\"_blank\" href=\"http://ip-192-168-1-91.eu-central-1.compute.internal:8042/node/containerlogs/container_1732639283265_2738_01_000001/livy\">Link</a></td><td>None</td><td>✔</td></tr></table>"
      ],
      "text/plain": [
       "<IPython.core.display.HTML object>"
      ]
     },
     "metadata": {},
     "output_type": "display_data"
    },
    {
     "data": {
      "application/vnd.jupyter.widget-view+json": {
       "model_id": "",
       "version_major": 2,
       "version_minor": 0
      },
      "text/plain": [
       "FloatProgress(value=0.0, bar_style='info', description='Progress:', layout=Layout(height='25px', width='50%'),…"
      ]
     },
     "metadata": {},
     "output_type": "display_data"
    },
    {
     "name": "stdout",
     "output_type": "stream",
     "text": [
      "SparkSession available as 'spark'.\n"
     ]
    },
    {
     "data": {
      "application/vnd.jupyter.widget-view+json": {
       "model_id": "",
       "version_major": 2,
       "version_minor": 0
      },
      "text/plain": [
       "FloatProgress(value=0.0, bar_style='info', description='Progress:', layout=Layout(height='25px', width='50%'),…"
      ]
     },
     "metadata": {},
     "output_type": "display_data"
    }
   ],
   "source": [
    "import time\n",
    "import pyspark\n",
    "from pyspark.sql import SparkSession\n",
    "from pyspark.sql.functions import col, when, count, desc, rank, sum as _sum\n",
    "from pyspark.sql.types import *\n",
    "from pyspark.sql.window import Window\n",
    "from sedona.spark import *"
   ]
  },
  {
   "cell_type": "markdown",
   "id": "92722a07-703b-4257-921c-26cb9a2864e2",
   "metadata": {
    "tags": []
   },
   "source": [
    "## Case No1 \n",
    "\n",
    "2 executors\n",
    "2g memory\n",
    "1 core"
   ]
  },
  {
   "cell_type": "code",
   "execution_count": 2,
   "id": "44230997-340a-4e4e-a7aa-d72a65bdeeaa",
   "metadata": {
    "tags": []
   },
   "outputs": [
    {
     "data": {
      "application/vnd.jupyter.widget-view+json": {
       "model_id": "",
       "version_major": 2,
       "version_minor": 0
      },
      "text/plain": [
       "FloatProgress(value=0.0, bar_style='info', description='Progress:', layout=Layout(height='25px', width='50%'),…"
      ]
     },
     "metadata": {},
     "output_type": "display_data"
    }
   ],
   "source": [
    "# Start Spark Session\n",
    "spark = SparkSession.builder \\\n",
    "    .appName(\"Query 4\") \\\n",
    "    .config(\"spark.executor.instances\", \"2\") \\\n",
    "    .config(\"spark.executor.memory\", \"2g\") \\\n",
    "    .config(\"spark.executor.cores\", \"1\") \\\n",
    "    .getOrCreate()"
   ]
  },
  {
   "cell_type": "code",
   "execution_count": 3,
   "id": "c98a8fba-9bb4-498e-8740-d2e5192f4baa",
   "metadata": {
    "tags": []
   },
   "outputs": [
    {
     "data": {
      "application/vnd.jupyter.widget-view+json": {
       "model_id": "",
       "version_major": 2,
       "version_minor": 0
      },
      "text/plain": [
       "FloatProgress(value=0.0, bar_style='info', description='Progress:', layout=Layout(height='25px', width='50%'),…"
      ]
     },
     "metadata": {},
     "output_type": "display_data"
    }
   ],
   "source": [
    "# paths\n",
    "crime_data_2010_2019 = \"s3://initial-notebook-data-bucket-dblab-905418150721/CrimeData/Crime_Data_from_2010_to_2019_20241101.csv\"\n",
    "crime_data_2020 = \"s3://initial-notebook-data-bucket-dblab-905418150721/CrimeData/Crime_Data_from_2020_to_Present_20241101.csv\"\n",
    "income = \"s3://initial-notebook-data-bucket-dblab-905418150721/LA_income_2015.csv\"\n",
    "census_blocks = \"s3://initial-notebook-data-bucket-dblab-905418150721/2010_Census_Blocks.geojson\"\n",
    "race_ethnicity_codes = \"s3://initial-notebook-data-bucket-dblab-905418150721/RE_codes.csv\"\n",
    "\n",
    "# Load datasets\n",
    "crime_data = spark.read.csv(crime_data_2010_2019, header=True, inferSchema=True).union(\n",
    "    spark.read.csv(crime_data_2020, header=True, inferSchema=True))\n",
    "income_data = spark.read.csv(income, header=True, inferSchema=True, quote='\"', escape='\"')\n",
    "census_data = spark.read.json(census_blocks)\n",
    "race_codes_data = spark.read.csv(race_ethnicity_codes, header=True, inferSchema=True)"
   ]
  },
  {
   "cell_type": "code",
   "execution_count": 4,
   "id": "7a06eac4-4238-4b21-9c11-90524fcf210e",
   "metadata": {
    "tags": []
   },
   "outputs": [
    {
     "data": {
      "application/vnd.jupyter.widget-view+json": {
       "model_id": "",
       "version_major": 2,
       "version_minor": 0
      },
      "text/plain": [
       "FloatProgress(value=0.0, bar_style='info', description='Progress:', layout=Layout(height='25px', width='50%'),…"
      ]
     },
     "metadata": {},
     "output_type": "display_data"
    }
   ],
   "source": [
    "start_time_1 = time.time()\n",
    "\n",
    "# Create sedona context\n",
    "sedona = SedonaContext.create(spark)\n",
    "\n",
    "blocks_data = sedona.read.format(\"geojson\") \\\n",
    "            .option(\"multiLine\", \"true\").load(census_blocks) \\\n",
    "            .selectExpr(\"explode(features) as features\") \\\n",
    "            .select(\"features.*\")\n",
    "\n",
    "# Formatting magic\n",
    "flattened_data = blocks_data.select( \\\n",
    "                [col(f\"properties.{col_name}\").alias(col_name) for col_name in \\\n",
    "                blocks_data.schema[\"properties\"].dataType.fieldNames()] + [\"geometry\"]) \\\n",
    "            .drop(\"properties\") \\\n",
    "            .drop(\"type\")\n",
    "\n",
    "# 1. Normalize and Aggregate Population Data\n",
    "# Aggregate population data by ZCTA10\n",
    "population_data = flattened_data.select(\n",
    "    col(\"ZCTA10\").alias(\"Zip_Code\"),\n",
    "    col(\"POP_2010\").alias(\"Population\")\n",
    ").groupBy(\"Zip_Code\").agg(_sum(\"Population\").alias(\"Total_Population\"))\n",
    "# population_df.show(5)\n"
   ]
  },
  {
   "cell_type": "code",
   "execution_count": 5,
   "id": "bb2cea84-abdc-48ad-945e-033869f35e4e",
   "metadata": {
    "tags": []
   },
   "outputs": [
    {
     "data": {
      "application/vnd.jupyter.widget-view+json": {
       "model_id": "",
       "version_major": 2,
       "version_minor": 0
      },
      "text/plain": [
       "FloatProgress(value=0.0, bar_style='info', description='Progress:', layout=Layout(height='25px', width='50%'),…"
      ]
     },
     "metadata": {},
     "output_type": "display_data"
    },
    {
     "name": "stdout",
     "output_type": "stream",
     "text": [
      "+--------+----------------+--------------------+-------------+------------------+\n",
      "|Zip_Code|Total_Population|           Community|Median_Income| Per_Capita_Income|\n",
      "+--------+----------------+--------------------+-------------+------------------+\n",
      "|   91326|           33708|Los Angeles (Nort...|     101073.0|2.9984870060519757|\n",
      "|   90094|            5464|Los Angeles (Play...|     104367.0| 19.10084187408492|\n",
      "|   90026|           67869|Los Angeles (Echo...|      47993.0|0.7071416994504118|\n",
      "|   90029|           38617|Los Angeles (East...|      33912.0|0.8781624673071445|\n",
      "|   90067|            2424|Los Angeles (Cent...|      97891.0|40.384075907590756|\n",
      "+--------+----------------+--------------------+-------------+------------------+\n",
      "only showing top 5 rows"
     ]
    }
   ],
   "source": [
    "from pyspark.sql.functions import regexp_replace, col\n",
    "\n",
    "income_data = income_data.withColumnRenamed(\"Estimated Median Income\", \"Median_Income\") \\\n",
    "                     .withColumnRenamed(\"Zip Code\", \"Zip_Code\") \\\n",
    "                     .withColumn(\"Median_Income\", regexp_replace(col(\"Median_Income\"), \"[$,]\", \"\").cast(\"double\"))\n",
    "\n",
    "#filter only for communities in the los angeles municipality\n",
    "income_data = income_data.filter(col(\"Community\").contains(\"Los Angeles\"))\n",
    "# income_df.show(5)\n",
    "\n",
    "# Join population and income data on Zip_Code\n",
    "pop_income_data = population_data.join(income_data, on=\"Zip_Code\", how=\"inner\")\n",
    "# pop_income_df.show(5)\n",
    "\n",
    "# Calculate per capita income\n",
    "income_population_data = pop_income_data.withColumn(\n",
    "    \"Per_Capita_Income\",\n",
    "    (col(\"Median_Income\") / col(\"Total_Population\"))\n",
    ")\n",
    "\n",
    "# Show the result\n",
    "income_population_data.show(5)"
   ]
  },
  {
   "cell_type": "code",
   "execution_count": 6,
   "id": "225fdefc-09fa-4002-9b28-0e862ab07a92",
   "metadata": {
    "tags": []
   },
   "outputs": [
    {
     "data": {
      "application/vnd.jupyter.widget-view+json": {
       "model_id": "",
       "version_major": 2,
       "version_minor": 0
      },
      "text/plain": [
       "FloatProgress(value=0.0, bar_style='info', description='Progress:', layout=Layout(height='25px', width='50%'),…"
      ]
     },
     "metadata": {},
     "output_type": "display_data"
    },
    {
     "name": "stdout",
     "output_type": "stream",
     "text": [
      "+--------+----------------+--------------------+-------------+------------------+\n",
      "|Zip_Code|Total_Population|           Community|Median_Income| Per_Capita_Income|\n",
      "+--------+----------------+--------------------+-------------+------------------+\n",
      "|   90067|            2424|Los Angeles (Cent...|      97891.0|40.384075907590756|\n",
      "|   90094|            5464|Los Angeles (Play...|     104367.0| 19.10084187408492|\n",
      "|   90077|            9377|Los Angeles (Bel ...|     164281.0|17.519569158579504|\n",
      "+--------+----------------+--------------------+-------------+------------------+"
     ]
    }
   ],
   "source": [
    "# Get the top 3 areas with the highest per capita income\n",
    "top_areas_data = income_population_data.orderBy(col(\"Per_Capita_Income\").desc()).limit(3)\n",
    "\n",
    "# Show the result\n",
    "top_areas_data.show()"
   ]
  },
  {
   "cell_type": "code",
   "execution_count": 7,
   "id": "85139a38-9f16-468e-8db8-978d0e0dacf1",
   "metadata": {
    "tags": []
   },
   "outputs": [
    {
     "data": {
      "application/vnd.jupyter.widget-view+json": {
       "model_id": "",
       "version_major": 2,
       "version_minor": 0
      },
      "text/plain": [
       "FloatProgress(value=0.0, bar_style='info', description='Progress:', layout=Layout(height='25px', width='50%'),…"
      ]
     },
     "metadata": {},
     "output_type": "display_data"
    },
    {
     "name": "stdout",
     "output_type": "stream",
     "text": [
      "+--------+----------------+--------------------+-------------+-------------------+\n",
      "|Zip_Code|Total_Population|           Community|Median_Income|  Per_Capita_Income|\n",
      "+--------+----------------+--------------------+-------------+-------------------+\n",
      "|   90011|          103892|Los Angeles (Sout...|      30251.0|  0.291177376506372|\n",
      "|   90044|           89779|Athens, Los Angel...|      29206.0| 0.3253099277113802|\n",
      "|   90037|           62276|Los Angeles (Sout...|      27179.0|0.43642815852013617|\n",
      "+--------+----------------+--------------------+-------------+-------------------+"
     ]
    }
   ],
   "source": [
    "# Get the bottom 3 areas with the lowest per capita income\n",
    "bottom_areas_data = income_population_data.orderBy(col(\"Per_Capita_Income\").asc()).limit(3)\n",
    "\n",
    "# Show the result\n",
    "bottom_areas_data.show()"
   ]
  },
  {
   "cell_type": "code",
   "execution_count": 8,
   "id": "97b811bc-c2dd-4d52-bfe2-e089faf52edd",
   "metadata": {
    "tags": []
   },
   "outputs": [
    {
     "data": {
      "application/vnd.jupyter.widget-view+json": {
       "model_id": "",
       "version_major": 2,
       "version_minor": 0
      },
      "text/plain": [
       "FloatProgress(value=0.0, bar_style='info', description='Progress:', layout=Layout(height='25px', width='50%'),…"
      ]
     },
     "metadata": {},
     "output_type": "display_data"
    },
    {
     "name": "stdout",
     "output_type": "stream",
     "text": [
      "+------------+---------+--------------------+--------------------+--------+-----+---------+-----------+--------+------+--------------------+---------+--------+--------+---------+--------------------+--------------+-----------+------+-----------+--------+--------+--------+--------+--------------------+--------------------+-------+---------+--------------------+--------+--------------------+--------------------+\n",
      "|Vict Descent|    DR_NO|           Date Rptd|            DATE OCC|TIME OCC|AREA |AREA NAME|Rpt Dist No|Part 1-2|Crm Cd|         Crm Cd Desc|  Mocodes|Vict Age|Vict Sex|Premis Cd|         Premis Desc|Weapon Used Cd|Weapon Desc|Status|Status Desc|Crm Cd 1|Crm Cd 2|Crm Cd 3|Crm Cd 4|            LOCATION|        Cross Street|    LAT|      LON|                geom|Zip_Code|            geometry|   Vict Descent Full|\n",
      "+------------+---------+--------------------+--------------------+--------+-----+---------+-----------+--------+------+--------------------+---------+--------+--------+---------+--------------------+--------------+-----------+------+-----------+--------+--------+--------+--------+--------------------+--------------------+-------+---------+--------------------+--------+--------------------+--------------------+\n",
      "|           O|151404660|01/12/2015 12:00:...|12/04/2014 12:00:...|    1400|   14|  Pacific|       1469|       2|   664|  BUNCO, PETTY THEFT|0701 1501|      27|       M|      501|SINGLE FAMILY DWE...|          NULL|       NULL|    IC|Invest Cont|     664|    NULL|    NULL|    NULL|7200 S  LA CIENEG...|                NULL|33.9702|-118.3701|POINT (-118.3701 ...|   90302|MULTIPOLYGON (((-...|               Other|\n",
      "|           X|151430442|12/14/2015 12:00:...|12/14/2015 12:00:...|    1730|   14|  Pacific|       1469|       2|   753|DISCHARGE FIREARM...|     1100|       0|       X|      108|         PARKING LOT|           102|   HAND GUN|    IC|Invest Cont|     753|    NULL|    NULL|    NULL|CENTINELA        ...|LA CIENEGA       ...|33.9773|-118.3701|POINT (-118.3701 ...|   90302|MULTIPOLYGON (((-...|             Unknown|\n",
      "|           X|151416554|06/11/2015 12:00:...|06/05/2015 12:00:...|    1000|   14|  Pacific|       1499|       1|   331|THEFT FROM MOTOR ...|0344 1300|       0|       X|      108|         PARKING LOT|          NULL|       NULL|    IC|Invest Cont|     331|    NULL|    NULL|    NULL|5300 W  IMPERIAL ...|                NULL|33.9309|-118.3751|POINT (-118.3751 ...|   90045|POLYGON ((-118.37...|             Unknown|\n",
      "|           H|151414997|05/21/2015 12:00:...|05/15/2015 12:00:...|    1600|   14|  Pacific|       1499|       1|   440|THEFT PLAIN - PET...|     0344|      33|       F|      203|      OTHER BUSINESS|          NULL|       NULL|    AO|Adult Other|     440|    NULL|    NULL|    NULL|5300 W  IMPERIAL ...|                NULL|33.9309|-118.3751|POINT (-118.3751 ...|   90045|POLYGON ((-118.37...|Hispanic/Latin/Me...|\n",
      "|           W|151412524|04/16/2015 12:00:...|04/16/2015 12:00:...|    1735|   14|  Pacific|       1499|       1|   330|BURGLARY FROM VEH...|     0344|       0|       M|      702|OFFICE BUILDING/O...|          NULL|       NULL|    IC|Invest Cont|     330|    NULL|    NULL|    NULL|5300 W  IMPERIAL ...|                NULL|33.9309|-118.3751|POINT (-118.3751 ...|   90045|POLYGON ((-118.37...|               White|\n",
      "+------------+---------+--------------------+--------------------+--------+-----+---------+-----------+--------+------+--------------------+---------+--------+--------+---------+--------------------+--------------+-----------+------+-----------+--------+--------+--------+--------+--------------------+--------------------+-------+---------+--------------------+--------+--------------------+--------------------+\n",
      "only showing top 5 rows"
     ]
    }
   ],
   "source": [
    "# Aggregate geometries by ZIP code\n",
    "zip_geometries = flattened_data.groupBy(\"ZCTA10\").agg(\n",
    "    ST_Union_Aggr(\"geometry\").alias(\"geometry\")\n",
    ").withColumnRenamed(\"ZCTA10\", \"Zip_Code\")\n",
    "\n",
    "# Show the result\n",
    "#zip_geometries.show(5)\n",
    "\n",
    "# Create geometry column for crime_df\n",
    "crime_data = crime_data.withColumn(\"geom\", ST_Point(\"LON\", \"LAT\"))\n",
    "\n",
    "# Perform geospatial join\n",
    "crime_data = crime_data.join(\n",
    "    zip_geometries, \n",
    "    ST_Within(crime_data[\"geom\"], zip_geometries[\"geometry\"]),\n",
    "    \"inner\"\n",
    ")\n",
    "\n",
    "#crime_df.show()\n",
    "\n",
    "from pyspark.sql.functions import col\n",
    "\n",
    "# Extract the year from the `Date Rptd` field and filter for 2015\n",
    "crime_2015_data = crime_data.filter(col(\"Date Rptd\").substr(7, 4) == \"2015\")\n",
    "\n",
    "# Show the filtered data\n",
    "#crime_2015_df.show(5)\n",
    "\n",
    "# Join crime data with race codes\n",
    "crime_race_data = crime_2015_data.join(race_codes_data, on=\"Vict Descent\", how=\"inner\")\n",
    "\n",
    "# Show the joined result\n",
    "crime_race_data.show(5)"
   ]
  },
  {
   "cell_type": "markdown",
   "id": "c3867160-612c-4878-94d9-c503055df68a",
   "metadata": {},
   "source": [
    "The substr function extracts characters from a string column:\n",
    "substr(7, 4) means \"start at the 7th character and take the next 4 characters\" (which corresponds to the year in MM/DD/YYYY format).\n",
    "The filter then checks if the extracted year equals 2015."
   ]
  },
  {
   "cell_type": "code",
   "execution_count": 9,
   "id": "d00079b7-f196-437f-a52b-36ea5ac069cd",
   "metadata": {
    "tags": []
   },
   "outputs": [
    {
     "data": {
      "application/vnd.jupyter.widget-view+json": {
       "model_id": "",
       "version_major": 2,
       "version_minor": 0
      },
      "text/plain": [
       "FloatProgress(value=0.0, bar_style='info', description='Progress:', layout=Layout(height='25px', width='50%'),…"
      ]
     },
     "metadata": {},
     "output_type": "display_data"
    },
    {
     "name": "stdout",
     "output_type": "stream",
     "text": [
      "Top areas racial profile\n",
      "+--------------------+-------------+\n",
      "|   Vict Descent Full|Total_Victims|\n",
      "+--------------------+-------------+\n",
      "|               White|          272|\n",
      "|               Other|           97|\n",
      "|Hispanic/Latin/Me...|           45|\n",
      "|               Black|           29|\n",
      "|             Unknown|           20|\n",
      "|         Other Asian|           17|\n",
      "|            Filipino|            1|\n",
      "+--------------------+-------------+\n",
      "\n",
      "Bottom areas racial profile\n",
      "+--------------------+-------------+\n",
      "|   Vict Descent Full|Total_Victims|\n",
      "+--------------------+-------------+\n",
      "|Hispanic/Latin/Me...|         7239|\n",
      "|               Black|         4572|\n",
      "|               Other|          412|\n",
      "|               White|          363|\n",
      "|         Other Asian|           69|\n",
      "|             Unknown|           54|\n",
      "|            Filipino|            3|\n",
      "|            Japanese|            2|\n",
      "|             Chinese|            2|\n",
      "|              Korean|            2|\n",
      "|           Guamanian|            1|\n",
      "|American Indian/A...|            1|\n",
      "+--------------------+-------------+"
     ]
    }
   ],
   "source": [
    "# Top areas racial profile\n",
    "top_racial_profile_data = crime_race_data.join(\n",
    "    top_areas_data, on=\"Zip_Code\", how=\"inner\"\n",
    ").groupBy(\"Vict Descent Full\").agg(\n",
    "    count(\"*\").alias(\"Total_Victims\")\n",
    ").orderBy(col(\"Total_Victims\").desc())\n",
    "\n",
    "# Bottom areas racial profile\n",
    "bottom_racial_profile_data = crime_race_data.join(\n",
    "    bottom_areas_data, on=\"Zip_Code\", how=\"inner\"\n",
    ").groupBy(\"Vict Descent Full\").agg(\n",
    "    count(\"*\").alias(\"Total_Victims\")\n",
    ").orderBy(col(\"Total_Victims\").desc())\n",
    "\n",
    "# Show results\n",
    "print(f\"Top areas racial profile\")\n",
    "top_racial_profile_data.show()\n",
    "print(f\"Bottom areas racial profile\")\n",
    "bottom_racial_profile_data.show()\n",
    "\n",
    "end_time_1 = time.time()"
   ]
  },
  {
   "cell_type": "code",
   "execution_count": 10,
   "id": "f100a803-be56-4de2-a7b6-f4bcd729bf14",
   "metadata": {
    "tags": []
   },
   "outputs": [
    {
     "data": {
      "application/vnd.jupyter.widget-view+json": {
       "model_id": "",
       "version_major": 2,
       "version_minor": 0
      },
      "text/plain": [
       "FloatProgress(value=0.0, bar_style='info', description='Progress:', layout=Layout(height='25px', width='50%'),…"
      ]
     },
     "metadata": {},
     "output_type": "display_data"
    },
    {
     "name": "stdout",
     "output_type": "stream",
     "text": [
      "2 executors 2g memory 1 core: 174.58 seconds"
     ]
    }
   ],
   "source": [
    "elapsed_time_2_2_1 = end_time_1 - start_time_1\n",
    "print(f\"2 executors 2g memory 1 core: {elapsed_time_2_2_1:.2f} seconds\")"
   ]
  },
  {
   "cell_type": "markdown",
   "id": "6faf298b-552d-4bc3-b8d2-678664f5eb60",
   "metadata": {},
   "source": [
    "## Case No2 \n",
    "\n",
    "2 executors\n",
    "4g memory\n",
    "2 core"
   ]
  },
  {
   "cell_type": "code",
   "execution_count": 11,
   "id": "17660969-b57a-4496-9167-7a6924f6879a",
   "metadata": {
    "tags": []
   },
   "outputs": [
    {
     "data": {
      "application/vnd.jupyter.widget-view+json": {
       "model_id": "",
       "version_major": 2,
       "version_minor": 0
      },
      "text/plain": [
       "FloatProgress(value=0.0, bar_style='info', description='Progress:', layout=Layout(height='25px', width='50%'),…"
      ]
     },
     "metadata": {},
     "output_type": "display_data"
    }
   ],
   "source": [
    "# Start Spark Session\n",
    "spark = SparkSession.builder \\\n",
    "    .appName(\"Query 4\") \\\n",
    "    .config(\"spark.executor.instances\", \"2\") \\\n",
    "    .config(\"spark.executor.memory\", \"4g\") \\\n",
    "    .config(\"spark.executor.cores\", \"2\") \\\n",
    "    .getOrCreate()"
   ]
  },
  {
   "cell_type": "code",
   "execution_count": 12,
   "id": "b8b03b01-5544-492c-a323-02c21988121c",
   "metadata": {
    "tags": []
   },
   "outputs": [
    {
     "data": {
      "application/vnd.jupyter.widget-view+json": {
       "model_id": "",
       "version_major": 2,
       "version_minor": 0
      },
      "text/plain": [
       "FloatProgress(value=0.0, bar_style='info', description='Progress:', layout=Layout(height='25px', width='50%'),…"
      ]
     },
     "metadata": {},
     "output_type": "display_data"
    }
   ],
   "source": [
    "# paths\n",
    "crime_data_2010_2019 = \"s3://initial-notebook-data-bucket-dblab-905418150721/CrimeData/Crime_Data_from_2010_to_2019_20241101.csv\"\n",
    "crime_data_2020 = \"s3://initial-notebook-data-bucket-dblab-905418150721/CrimeData/Crime_Data_from_2020_to_Present_20241101.csv\"\n",
    "income = \"s3://initial-notebook-data-bucket-dblab-905418150721/LA_income_2015.csv\"\n",
    "race_ethnicity_codes = \"s3://initial-notebook-data-bucket-dblab-905418150721/RE_codes.csv\"\n",
    "\n",
    "# Load datasets\n",
    "crime_data = spark.read.csv(crime_data_2010_2019, header=True, inferSchema=True).union(\n",
    "    spark.read.csv(crime_data_2020, header=True, inferSchema=True))\n",
    "income_data = spark.read.csv(income, header=True, inferSchema=True, quote='\"', escape='\"')\n",
    "race_codes_data = spark.read.csv(race_ethnicity_codes, header=True, inferSchema=True)"
   ]
  },
  {
   "cell_type": "code",
   "execution_count": 13,
   "id": "fa0966e5-0514-4d10-b46c-614cea33049c",
   "metadata": {
    "tags": []
   },
   "outputs": [
    {
     "data": {
      "application/vnd.jupyter.widget-view+json": {
       "model_id": "",
       "version_major": 2,
       "version_minor": 0
      },
      "text/plain": [
       "FloatProgress(value=0.0, bar_style='info', description='Progress:', layout=Layout(height='25px', width='50%'),…"
      ]
     },
     "metadata": {},
     "output_type": "display_data"
    },
    {
     "name": "stdout",
     "output_type": "stream",
     "text": [
      "+--------+----------------+--------------------+-------------+------------------+\n",
      "|Zip_Code|Total_Population|           Community|Median_Income| Per_Capita_Income|\n",
      "+--------+----------------+--------------------+-------------+------------------+\n",
      "|   91326|           33708|Los Angeles (Nort...|     101073.0|2.9984870060519757|\n",
      "|   90094|            5464|Los Angeles (Play...|     104367.0| 19.10084187408492|\n",
      "|   90026|           67869|Los Angeles (Echo...|      47993.0|0.7071416994504118|\n",
      "|   90029|           38617|Los Angeles (East...|      33912.0|0.8781624673071445|\n",
      "|   90067|            2424|Los Angeles (Cent...|      97891.0|40.384075907590756|\n",
      "+--------+----------------+--------------------+-------------+------------------+\n",
      "only showing top 5 rows"
     ]
    }
   ],
   "source": [
    "start_time_2 = time.time()\n",
    "\n",
    "# Create sedona context\n",
    "sedona = SedonaContext.create(spark)\n",
    "\n",
    "blocks_data = sedona.read.format(\"geojson\") \\\n",
    "            .option(\"multiLine\", \"true\").load(census_blocks) \\\n",
    "            .selectExpr(\"explode(features) as features\") \\\n",
    "            .select(\"features.*\")\n",
    "\n",
    "# Formatting magic\n",
    "flattened_data = blocks_data.select( \\\n",
    "                [col(f\"properties.{col_name}\").alias(col_name) for col_name in \\\n",
    "                blocks_data.schema[\"properties\"].dataType.fieldNames()] + [\"geometry\"]) \\\n",
    "            .drop(\"properties\") \\\n",
    "            .drop(\"type\")\n",
    "\n",
    "# 1. Normalize and Aggregate Population Data\n",
    "# Aggregate population data by ZCTA10\n",
    "population_data = flattened_data.select(\n",
    "    col(\"ZCTA10\").alias(\"Zip_Code\"),\n",
    "    col(\"POP_2010\").alias(\"Population\")\n",
    ").groupBy(\"Zip_Code\").agg(_sum(\"Population\").alias(\"Total_Population\"))\n",
    "# population_df.show(5)\n",
    "\n",
    "from pyspark.sql.functions import regexp_replace, col\n",
    "\n",
    "income_data = income_data.withColumnRenamed(\"Estimated Median Income\", \"Median_Income\") \\\n",
    "                     .withColumnRenamed(\"Zip Code\", \"Zip_Code\") \\\n",
    "                     .withColumn(\"Median_Income\", regexp_replace(col(\"Median_Income\"), \"[$,]\", \"\").cast(\"double\"))\n",
    "\n",
    "#filter only for communities in the los angeles municipality\n",
    "income_data = income_data.filter(col(\"Community\").contains(\"Los Angeles\"))\n",
    "# income_df.show(5)\n",
    "\n",
    "# Join population and income data on Zip_Code\n",
    "pop_income_data = population_data.join(income_data, on=\"Zip_Code\", how=\"inner\")\n",
    "# pop_income_df.show(5)\n",
    "\n",
    "# Calculate per capita income\n",
    "income_population_data = pop_income_data.withColumn(\n",
    "    \"Per_Capita_Income\",\n",
    "    (col(\"Median_Income\") / col(\"Total_Population\"))\n",
    ")\n",
    "\n",
    "# Show the result\n",
    "income_population_data.show(5)"
   ]
  },
  {
   "cell_type": "code",
   "execution_count": 14,
   "id": "1b71a70a-34ba-496e-a5e6-2e4f4771c270",
   "metadata": {
    "tags": []
   },
   "outputs": [
    {
     "data": {
      "application/vnd.jupyter.widget-view+json": {
       "model_id": "",
       "version_major": 2,
       "version_minor": 0
      },
      "text/plain": [
       "FloatProgress(value=0.0, bar_style='info', description='Progress:', layout=Layout(height='25px', width='50%'),…"
      ]
     },
     "metadata": {},
     "output_type": "display_data"
    },
    {
     "name": "stdout",
     "output_type": "stream",
     "text": [
      "+--------+----------------+--------------------+-------------+------------------+\n",
      "|Zip_Code|Total_Population|           Community|Median_Income| Per_Capita_Income|\n",
      "+--------+----------------+--------------------+-------------+------------------+\n",
      "|   90067|            2424|Los Angeles (Cent...|      97891.0|40.384075907590756|\n",
      "|   90094|            5464|Los Angeles (Play...|     104367.0| 19.10084187408492|\n",
      "|   90077|            9377|Los Angeles (Bel ...|     164281.0|17.519569158579504|\n",
      "+--------+----------------+--------------------+-------------+------------------+\n",
      "\n",
      "+--------+----------------+--------------------+-------------+-------------------+\n",
      "|Zip_Code|Total_Population|           Community|Median_Income|  Per_Capita_Income|\n",
      "+--------+----------------+--------------------+-------------+-------------------+\n",
      "|   90011|          103892|Los Angeles (Sout...|      30251.0|  0.291177376506372|\n",
      "|   90044|           89779|Athens, Los Angel...|      29206.0| 0.3253099277113802|\n",
      "|   90037|           62276|Los Angeles (Sout...|      27179.0|0.43642815852013617|\n",
      "+--------+----------------+--------------------+-------------+-------------------+"
     ]
    }
   ],
   "source": [
    "# Get the top 3 areas with the highest per capita income\n",
    "top_areas_data = income_population_data.orderBy(col(\"Per_Capita_Income\").desc()).limit(3)\n",
    "\n",
    "# Show the result\n",
    "top_areas_data.show()\n",
    "\n",
    "# Get the bottom 3 areas with the lowest per capita income\n",
    "bottom_areas_data = income_population_data.orderBy(col(\"Per_Capita_Income\").asc()).limit(3)\n",
    "\n",
    "# Show the result\n",
    "bottom_areas_data.show()"
   ]
  },
  {
   "cell_type": "code",
   "execution_count": 15,
   "id": "26841d5d-41ba-41a4-aa0c-3b7feeaf88cd",
   "metadata": {
    "tags": []
   },
   "outputs": [
    {
     "data": {
      "application/vnd.jupyter.widget-view+json": {
       "model_id": "",
       "version_major": 2,
       "version_minor": 0
      },
      "text/plain": [
       "FloatProgress(value=0.0, bar_style='info', description='Progress:', layout=Layout(height='25px', width='50%'),…"
      ]
     },
     "metadata": {},
     "output_type": "display_data"
    },
    {
     "name": "stdout",
     "output_type": "stream",
     "text": [
      "+------------+---------+--------------------+--------------------+--------+-----+---------+-----------+--------+------+--------------------+--------------+--------+--------+---------+--------------------+--------------+-----------+------+------------+--------+--------+--------+--------+--------------------+--------------------+-------+---------+--------------------+--------+--------------------+-----------------+\n",
      "|Vict Descent|    DR_NO|           Date Rptd|            DATE OCC|TIME OCC|AREA |AREA NAME|Rpt Dist No|Part 1-2|Crm Cd|         Crm Cd Desc|       Mocodes|Vict Age|Vict Sex|Premis Cd|         Premis Desc|Weapon Used Cd|Weapon Desc|Status| Status Desc|Crm Cd 1|Crm Cd 2|Crm Cd 3|Crm Cd 4|            LOCATION|        Cross Street|    LAT|      LON|                geom|Zip_Code|            geometry|Vict Descent Full|\n",
      "+------------+---------+--------------------+--------------------+--------+-----+---------+-----------+--------+------+--------------------+--------------+--------+--------+---------+--------------------+--------------+-----------+------+------------+--------+--------+--------+--------+--------------------+--------------------+-------+---------+--------------------+--------+--------------------+-----------------+\n",
      "|           W|151422949|08/29/2015 12:00:...|08/29/2015 12:00:...|     845|   14|  Pacific|       1499|       2|   946|OTHER MISCELLANEO...|          NULL|      51|       M|      212|TRANSPORTATION FA...|          NULL|       NULL|    AA|Adult Arrest|     946|    NULL|    NULL|    NULL|          LA CIENEGA|            IMPERIAL|33.9309|  -118.37|POINT (-118.37 33...|   90045|POLYGON ((-118.37...|            White|\n",
      "|           B|151416778|06/15/2015 12:00:...|06/15/2015 12:00:...|    2130|   14|  Pacific|       1499|       1|   210|             ROBBERY|     0420 0344|      54|       M|      108|         PARKING LOT|           102|   HAND GUN|    IC| Invest Cont|     210|    NULL|    NULL|    NULL|5200 W  IMPERIAL ...|                NULL|33.9309|  -118.37|POINT (-118.37 33...|   90045|POLYGON ((-118.37...|            Black|\n",
      "|           B|151417607|06/23/2015 12:00:...|06/23/2015 12:00:...|    1030|   14|  Pacific|       1499|       1|   420|THEFT FROM MOTOR ...|1606 0344 1202|      68|       F|      108|         PARKING LOT|          NULL|       NULL|    IC| Invest Cont|     420|    NULL|    NULL|    NULL|            IMPERIAL|LA CIENEGA       ...|33.9309|  -118.37|POINT (-118.37 33...|   90045|POLYGON ((-118.37...|            Black|\n",
      "|           B|151423518|09/02/2015 12:00:...|08/24/2015 12:00:...|    1530|   14|  Pacific|       1499|       1|   440|THEFT PLAIN - PET...|     1822 0344|      48|       F|      203|      OTHER BUSINESS|          NULL|       NULL|    IC| Invest Cont|     440|    NULL|    NULL|    NULL|11500    AVIATION...|                NULL|33.9299|-118.3785|POINT (-118.3785 ...|   90045|POLYGON ((-118.37...|            Black|\n",
      "|           W|151422955|08/29/2015 12:00:...|08/29/2015 12:00:...|     200|   14|  Pacific|       1499|       2|   740|VANDALISM - FELON...|          0329|       0|       M|      108|         PARKING LOT|          NULL|       NULL|    IC| Invest Cont|     740|    NULL|    NULL|    NULL|11500    AVIATION...|                NULL|33.9299|-118.3785|POINT (-118.3785 ...|   90045|POLYGON ((-118.37...|            White|\n",
      "+------------+---------+--------------------+--------------------+--------+-----+---------+-----------+--------+------+--------------------+--------------+--------+--------+---------+--------------------+--------------+-----------+------+------------+--------+--------+--------+--------+--------------------+--------------------+-------+---------+--------------------+--------+--------------------+-----------------+\n",
      "only showing top 5 rows"
     ]
    }
   ],
   "source": [
    "# Aggregate geometries by ZIP code\n",
    "zip_geometries = flattened_data.groupBy(\"ZCTA10\").agg(\n",
    "    ST_Union_Aggr(\"geometry\").alias(\"geometry\")\n",
    ").withColumnRenamed(\"ZCTA10\", \"Zip_Code\")\n",
    "\n",
    "# Show the result\n",
    "#zip_geometries.show(5)\n",
    "\n",
    "# Create geometry column for crime_df\n",
    "crime_data = crime_data.withColumn(\"geom\", ST_Point(\"LON\", \"LAT\"))\n",
    "\n",
    "# Perform geospatial join\n",
    "crime_data = crime_data.join(\n",
    "    zip_geometries, \n",
    "    ST_Within(crime_data[\"geom\"], zip_geometries[\"geometry\"]),\n",
    "    \"inner\"\n",
    ")\n",
    "\n",
    "#crime_df.show()\n",
    "\n",
    "from pyspark.sql.functions import col\n",
    "\n",
    "# Extract the year from the `Date Rptd` field and filter for 2015\n",
    "crime_2015_data = crime_data.filter(col(\"Date Rptd\").substr(7, 4) == \"2015\")\n",
    "\n",
    "# Show the filtered data\n",
    "#crime_2015_df.show(5)\n",
    "\n",
    "# Join crime data with race codes\n",
    "crime_race_data = crime_2015_data.join(race_codes_data, on=\"Vict Descent\", how=\"inner\")\n",
    "\n",
    "# Show the joined result\n",
    "crime_race_data.show(5)"
   ]
  },
  {
   "cell_type": "code",
   "execution_count": 16,
   "id": "55d79719-1fc2-4a0d-8475-4ada73a14bfc",
   "metadata": {
    "tags": []
   },
   "outputs": [
    {
     "data": {
      "application/vnd.jupyter.widget-view+json": {
       "model_id": "",
       "version_major": 2,
       "version_minor": 0
      },
      "text/plain": [
       "FloatProgress(value=0.0, bar_style='info', description='Progress:', layout=Layout(height='25px', width='50%'),…"
      ]
     },
     "metadata": {},
     "output_type": "display_data"
    },
    {
     "name": "stdout",
     "output_type": "stream",
     "text": [
      "Top areas racial profile\n",
      "+--------------------+-------------+\n",
      "|   Vict Descent Full|Total_Victims|\n",
      "+--------------------+-------------+\n",
      "|               White|          272|\n",
      "|               Other|           97|\n",
      "|Hispanic/Latin/Me...|           45|\n",
      "|               Black|           29|\n",
      "|             Unknown|           20|\n",
      "|         Other Asian|           17|\n",
      "|            Filipino|            1|\n",
      "+--------------------+-------------+\n",
      "\n",
      "Bottom areas racial profile\n",
      "+--------------------+-------------+\n",
      "|   Vict Descent Full|Total_Victims|\n",
      "+--------------------+-------------+\n",
      "|Hispanic/Latin/Me...|         7239|\n",
      "|               Black|         4572|\n",
      "|               Other|          412|\n",
      "|               White|          363|\n",
      "|         Other Asian|           69|\n",
      "|             Unknown|           54|\n",
      "|            Filipino|            3|\n",
      "|             Chinese|            2|\n",
      "|            Japanese|            2|\n",
      "|              Korean|            2|\n",
      "|           Guamanian|            1|\n",
      "|American Indian/A...|            1|\n",
      "+--------------------+-------------+"
     ]
    }
   ],
   "source": [
    "# Top areas racial profile\n",
    "top_racial_profile_data = crime_race_data.join(\n",
    "    top_areas_data, on=\"Zip_Code\", how=\"inner\"\n",
    ").groupBy(\"Vict Descent Full\").agg(\n",
    "    count(\"*\").alias(\"Total_Victims\")\n",
    ").orderBy(col(\"Total_Victims\").desc())\n",
    "\n",
    "# Bottom areas racial profile\n",
    "bottom_racial_profile_data = crime_race_data.join(\n",
    "    bottom_areas_data, on=\"Zip_Code\", how=\"inner\"\n",
    ").groupBy(\"Vict Descent Full\").agg(\n",
    "    count(\"*\").alias(\"Total_Victims\")\n",
    ").orderBy(col(\"Total_Victims\").desc())\n",
    "\n",
    "# Show results\n",
    "print(f\"Top areas racial profile\")\n",
    "top_racial_profile_data.show()\n",
    "print(f\"Bottom areas racial profile\")\n",
    "bottom_racial_profile_data.show()\n",
    "\n",
    "end_time_2 = time.time()"
   ]
  },
  {
   "cell_type": "code",
   "execution_count": 17,
   "id": "cbb2ec81-5bcd-4d34-9959-562fffb156dd",
   "metadata": {
    "tags": []
   },
   "outputs": [
    {
     "data": {
      "application/vnd.jupyter.widget-view+json": {
       "model_id": "",
       "version_major": 2,
       "version_minor": 0
      },
      "text/plain": [
       "FloatProgress(value=0.0, bar_style='info', description='Progress:', layout=Layout(height='25px', width='50%'),…"
      ]
     },
     "metadata": {},
     "output_type": "display_data"
    },
    {
     "name": "stdout",
     "output_type": "stream",
     "text": [
      "2 executors 4g memory 2 core: 119.00 seconds"
     ]
    }
   ],
   "source": [
    "elapsed_time_2_4_2 = end_time_2 - start_time_2\n",
    "print(f\"2 executors 4g memory 2 core: {elapsed_time_2_4_2:.2f} seconds\")"
   ]
  },
  {
   "cell_type": "markdown",
   "id": "ba1dfdd7-6413-4d6f-90d0-e1ce28a18a94",
   "metadata": {
    "tags": []
   },
   "source": [
    "## Case No3 \n",
    "\n",
    "2 executors\n",
    "8g memory\n",
    "4 core"
   ]
  },
  {
   "cell_type": "code",
   "execution_count": 18,
   "id": "e8180f89-86db-453a-8060-d7f01244180f",
   "metadata": {
    "tags": []
   },
   "outputs": [
    {
     "data": {
      "application/vnd.jupyter.widget-view+json": {
       "model_id": "",
       "version_major": 2,
       "version_minor": 0
      },
      "text/plain": [
       "FloatProgress(value=0.0, bar_style='info', description='Progress:', layout=Layout(height='25px', width='50%'),…"
      ]
     },
     "metadata": {},
     "output_type": "display_data"
    }
   ],
   "source": [
    "# Start Spark Session\n",
    "spark = SparkSession.builder \\\n",
    "    .appName(\"Query 4\") \\\n",
    "    .config(\"spark.executor.instances\", \"2\") \\\n",
    "    .config(\"spark.executor.memory\", \"8g\") \\\n",
    "    .config(\"spark.executor.cores\", \"4\") \\\n",
    "    .getOrCreate()"
   ]
  },
  {
   "cell_type": "code",
   "execution_count": 19,
   "id": "e4b08c41-c85c-4404-8863-618b17b6689b",
   "metadata": {
    "tags": []
   },
   "outputs": [
    {
     "data": {
      "application/vnd.jupyter.widget-view+json": {
       "model_id": "",
       "version_major": 2,
       "version_minor": 0
      },
      "text/plain": [
       "FloatProgress(value=0.0, bar_style='info', description='Progress:', layout=Layout(height='25px', width='50%'),…"
      ]
     },
     "metadata": {},
     "output_type": "display_data"
    }
   ],
   "source": [
    "# paths\n",
    "crime_data_2010_2019 = \"s3://initial-notebook-data-bucket-dblab-905418150721/CrimeData/Crime_Data_from_2010_to_2019_20241101.csv\"\n",
    "crime_data_2020 = \"s3://initial-notebook-data-bucket-dblab-905418150721/CrimeData/Crime_Data_from_2020_to_Present_20241101.csv\"\n",
    "income = \"s3://initial-notebook-data-bucket-dblab-905418150721/LA_income_2015.csv\"\n",
    "race_ethnicity_codes = \"s3://initial-notebook-data-bucket-dblab-905418150721/RE_codes.csv\"\n",
    "\n",
    "# Load datasets\n",
    "crime_data = spark.read.csv(crime_data_2010_2019, header=True, inferSchema=True).union(\n",
    "    spark.read.csv(crime_data_2020, header=True, inferSchema=True))\n",
    "income_data = spark.read.csv(income, header=True, inferSchema=True, quote='\"', escape='\"')\n",
    "race_codes_data = spark.read.csv(race_ethnicity_codes, header=True, inferSchema=True)"
   ]
  },
  {
   "cell_type": "code",
   "execution_count": 20,
   "id": "7c8821d8-f4c0-46f4-ab7e-7c4c3a995c45",
   "metadata": {
    "tags": []
   },
   "outputs": [
    {
     "data": {
      "application/vnd.jupyter.widget-view+json": {
       "model_id": "",
       "version_major": 2,
       "version_minor": 0
      },
      "text/plain": [
       "FloatProgress(value=0.0, bar_style='info', description='Progress:', layout=Layout(height='25px', width='50%'),…"
      ]
     },
     "metadata": {},
     "output_type": "display_data"
    },
    {
     "name": "stdout",
     "output_type": "stream",
     "text": [
      "+--------+----------------+--------------------+-------------+------------------+\n",
      "|Zip_Code|Total_Population|           Community|Median_Income| Per_Capita_Income|\n",
      "+--------+----------------+--------------------+-------------+------------------+\n",
      "|   91326|           33708|Los Angeles (Nort...|     101073.0|2.9984870060519757|\n",
      "|   90094|            5464|Los Angeles (Play...|     104367.0| 19.10084187408492|\n",
      "|   90026|           67869|Los Angeles (Echo...|      47993.0|0.7071416994504118|\n",
      "|   90029|           38617|Los Angeles (East...|      33912.0|0.8781624673071445|\n",
      "|   90067|            2424|Los Angeles (Cent...|      97891.0|40.384075907590756|\n",
      "+--------+----------------+--------------------+-------------+------------------+\n",
      "only showing top 5 rows"
     ]
    }
   ],
   "source": [
    "start_time_3 = time.time()\n",
    "\n",
    "# Create sedona context\n",
    "sedona = SedonaContext.create(spark)\n",
    "\n",
    "blocks_data = sedona.read.format(\"geojson\") \\\n",
    "            .option(\"multiLine\", \"true\").load(census_blocks) \\\n",
    "            .selectExpr(\"explode(features) as features\") \\\n",
    "            .select(\"features.*\")\n",
    "\n",
    "# Formatting magic\n",
    "flattened_data = blocks_data.select( \\\n",
    "                [col(f\"properties.{col_name}\").alias(col_name) for col_name in \\\n",
    "                blocks_data.schema[\"properties\"].dataType.fieldNames()] + [\"geometry\"]) \\\n",
    "            .drop(\"properties\") \\\n",
    "            .drop(\"type\")\n",
    "\n",
    "# 1. Normalize and Aggregate Population Data\n",
    "# Aggregate population data by ZCTA10\n",
    "population_data = flattened_data.select(\n",
    "    col(\"ZCTA10\").alias(\"Zip_Code\"),\n",
    "    col(\"POP_2010\").alias(\"Population\")\n",
    ").groupBy(\"Zip_Code\").agg(_sum(\"Population\").alias(\"Total_Population\"))\n",
    "# population_df.show(5)\n",
    "\n",
    "from pyspark.sql.functions import regexp_replace, col\n",
    "\n",
    "income_data = income_data.withColumnRenamed(\"Estimated Median Income\", \"Median_Income\") \\\n",
    "                     .withColumnRenamed(\"Zip Code\", \"Zip_Code\") \\\n",
    "                     .withColumn(\"Median_Income\", regexp_replace(col(\"Median_Income\"), \"[$,]\", \"\").cast(\"double\"))\n",
    "\n",
    "#filter only for communities in the los angeles municipality\n",
    "income_data = income_data.filter(col(\"Community\").contains(\"Los Angeles\"))\n",
    "# income_df.show(5)\n",
    "\n",
    "# Join population and income data on Zip_Code\n",
    "pop_income_data = population_data.join(income_data, on=\"Zip_Code\", how=\"inner\")\n",
    "# pop_income_df.show(5)\n",
    "\n",
    "# Calculate per capita income\n",
    "income_population_data = pop_income_data.withColumn(\n",
    "    \"Per_Capita_Income\",\n",
    "    (col(\"Median_Income\") / col(\"Total_Population\"))\n",
    ")\n",
    "\n",
    "# Show the result\n",
    "income_population_data.show(5)"
   ]
  },
  {
   "cell_type": "code",
   "execution_count": 21,
   "id": "ab984b84-3617-46d1-ad9a-6ba1849df917",
   "metadata": {
    "tags": []
   },
   "outputs": [
    {
     "data": {
      "application/vnd.jupyter.widget-view+json": {
       "model_id": "",
       "version_major": 2,
       "version_minor": 0
      },
      "text/plain": [
       "FloatProgress(value=0.0, bar_style='info', description='Progress:', layout=Layout(height='25px', width='50%'),…"
      ]
     },
     "metadata": {},
     "output_type": "display_data"
    },
    {
     "name": "stdout",
     "output_type": "stream",
     "text": [
      "+--------+----------------+--------------------+-------------+------------------+\n",
      "|Zip_Code|Total_Population|           Community|Median_Income| Per_Capita_Income|\n",
      "+--------+----------------+--------------------+-------------+------------------+\n",
      "|   90067|            2424|Los Angeles (Cent...|      97891.0|40.384075907590756|\n",
      "|   90094|            5464|Los Angeles (Play...|     104367.0| 19.10084187408492|\n",
      "|   90077|            9377|Los Angeles (Bel ...|     164281.0|17.519569158579504|\n",
      "+--------+----------------+--------------------+-------------+------------------+\n",
      "\n",
      "+--------+----------------+--------------------+-------------+-------------------+\n",
      "|Zip_Code|Total_Population|           Community|Median_Income|  Per_Capita_Income|\n",
      "+--------+----------------+--------------------+-------------+-------------------+\n",
      "|   90011|          103892|Los Angeles (Sout...|      30251.0|  0.291177376506372|\n",
      "|   90044|           89779|Athens, Los Angel...|      29206.0| 0.3253099277113802|\n",
      "|   90037|           62276|Los Angeles (Sout...|      27179.0|0.43642815852013617|\n",
      "+--------+----------------+--------------------+-------------+-------------------+"
     ]
    }
   ],
   "source": [
    "# Get the top 3 areas with the highest per capita income\n",
    "top_areas_data = income_population_data.orderBy(col(\"Per_Capita_Income\").desc()).limit(3)\n",
    "\n",
    "# Show the result\n",
    "top_areas_data.show()\n",
    "\n",
    "# Get the bottom 3 areas with the lowest per capita income\n",
    "bottom_areas_data = income_population_data.orderBy(col(\"Per_Capita_Income\").asc()).limit(3)\n",
    "\n",
    "# Show the result\n",
    "bottom_areas_data.show()"
   ]
  },
  {
   "cell_type": "code",
   "execution_count": 22,
   "id": "bcfc50c1-e94d-43ee-a398-df05382e2493",
   "metadata": {
    "tags": []
   },
   "outputs": [
    {
     "data": {
      "application/vnd.jupyter.widget-view+json": {
       "model_id": "",
       "version_major": 2,
       "version_minor": 0
      },
      "text/plain": [
       "FloatProgress(value=0.0, bar_style='info', description='Progress:', layout=Layout(height='25px', width='50%'),…"
      ]
     },
     "metadata": {},
     "output_type": "display_data"
    },
    {
     "name": "stdout",
     "output_type": "stream",
     "text": [
      "+------------+---------+--------------------+--------------------+--------+-----+---------+-----------+--------+------+--------------------+--------------------+--------+--------+---------+--------------------+--------------+-----------+------+-----------+--------+--------+--------+--------+--------------------+------------+-------+---------+--------------------+--------+--------------------+-----------------+\n",
      "|Vict Descent|    DR_NO|           Date Rptd|            DATE OCC|TIME OCC|AREA |AREA NAME|Rpt Dist No|Part 1-2|Crm Cd|         Crm Cd Desc|             Mocodes|Vict Age|Vict Sex|Premis Cd|         Premis Desc|Weapon Used Cd|Weapon Desc|Status|Status Desc|Crm Cd 1|Crm Cd 2|Crm Cd 3|Crm Cd 4|            LOCATION|Cross Street|    LAT|      LON|                geom|Zip_Code|            geometry|Vict Descent Full|\n",
      "+------------+---------+--------------------+--------------------+--------+-----+---------+-----------+--------+------+--------------------+--------------------+--------+--------+---------+--------------------+--------------+-----------+------+-----------+--------+--------+--------+--------+--------------------+------------+-------+---------+--------------------+--------+--------------------+-----------------+\n",
      "|           W|150511319|06/17/2015 12:00:...|06/16/2015 12:00:...|    1700|    5|   Harbor|        583|       1|   330|BURGLARY FROM VEH...|      1307 0344 1609|      53|       M|      101|              STREET|          NULL|       NULL|    IC|Invest Cont|     330|    NULL|    NULL|    NULL|2600 S  WALKER   ...|        NULL|33.7207|-118.3108|POINT (-118.3108 ...|   90732|MULTIPOLYGON (((-...|            White|\n",
      "|           O|150506816|03/04/2015 12:00:...|02/18/2015 12:00:...|     930|    5|   Harbor|        583|       2|   354|   THEFT OF IDENTITY| 0930 1822 1259 1251|      16|       F|      501|SINGLE FAMILY DWE...|          NULL|       NULL|    IC|Invest Cont|     354|    NULL|    NULL|    NULL|2100 S  WALKER   ...|        NULL|33.7207|-118.3108|POINT (-118.3108 ...|   90732|MULTIPOLYGON (((-...|            Other|\n",
      "|           W|150519708|12/20/2015 12:00:...|12/20/2015 12:00:...|    1735|    5|   Harbor|        583|       1|   420|THEFT FROM MOTOR ...|0216 0344 1300 13...|      26|       M|      101|              STREET|          NULL|       NULL|    IC|Invest Cont|     420|    NULL|    NULL|    NULL|1300 W  18TH     ...|        NULL|33.7207|-118.3108|POINT (-118.3108 ...|   90732|MULTIPOLYGON (((-...|            White|\n",
      "|           W|150516984|10/22/2015 12:00:...|10/19/2015 12:00:...|    2000|    5|   Harbor|        583|       2|   745|VANDALISM - MISDE...|           0329 1300|      46|       M|      122|VEHICLE, PASSENGE...|          NULL|       NULL|    IC|Invest Cont|     745|    NULL|    NULL|    NULL|1400 W  2ND      ...|        NULL|33.7207|-118.3108|POINT (-118.3108 ...|   90732|MULTIPOLYGON (((-...|            White|\n",
      "|           W|150514258|08/23/2015 12:00:...|08/22/2015 12:00:...|    2330|    5|   Harbor|        583|       2|   354|   THEFT OF IDENTITY|           0930 1822|      47|       M|      501|SINGLE FAMILY DWE...|          NULL|       NULL|    IC|Invest Cont|     354|    NULL|    NULL|    NULL|1900 S  WALKER   ...|        NULL|33.7207|-118.3108|POINT (-118.3108 ...|   90732|MULTIPOLYGON (((-...|            White|\n",
      "+------------+---------+--------------------+--------------------+--------+-----+---------+-----------+--------+------+--------------------+--------------------+--------+--------+---------+--------------------+--------------+-----------+------+-----------+--------+--------+--------+--------+--------------------+------------+-------+---------+--------------------+--------+--------------------+-----------------+\n",
      "only showing top 5 rows"
     ]
    }
   ],
   "source": [
    "# Aggregate geometries by ZIP code\n",
    "zip_geometries = flattened_data.groupBy(\"ZCTA10\").agg(\n",
    "    ST_Union_Aggr(\"geometry\").alias(\"geometry\")\n",
    ").withColumnRenamed(\"ZCTA10\", \"Zip_Code\")\n",
    "\n",
    "# Show the result\n",
    "#zip_geometries.show(5)\n",
    "\n",
    "# Create geometry column for crime_df\n",
    "crime_data = crime_data.withColumn(\"geom\", ST_Point(\"LON\", \"LAT\"))\n",
    "\n",
    "# Perform geospatial join\n",
    "crime_data = crime_data.join(\n",
    "    zip_geometries, \n",
    "    ST_Within(crime_data[\"geom\"], zip_geometries[\"geometry\"]),\n",
    "    \"inner\"\n",
    ")\n",
    "\n",
    "#crime_df.show()\n",
    "\n",
    "from pyspark.sql.functions import col\n",
    "\n",
    "# Extract the year from the `Date Rptd` field and filter for 2015\n",
    "crime_2015_data = crime_data.filter(col(\"Date Rptd\").substr(7, 4) == \"2015\")\n",
    "\n",
    "# Show the filtered data\n",
    "#crime_2015_df.show(5)\n",
    "\n",
    "# Join crime data with race codes\n",
    "crime_race_data = crime_2015_data.join(race_codes_data, on=\"Vict Descent\", how=\"inner\")\n",
    "\n",
    "# Show the joined result\n",
    "crime_race_data.show(5)"
   ]
  },
  {
   "cell_type": "code",
   "execution_count": 23,
   "id": "8c3df016-2c23-4ec9-93e4-cd79ea815c16",
   "metadata": {
    "tags": []
   },
   "outputs": [
    {
     "data": {
      "application/vnd.jupyter.widget-view+json": {
       "model_id": "",
       "version_major": 2,
       "version_minor": 0
      },
      "text/plain": [
       "FloatProgress(value=0.0, bar_style='info', description='Progress:', layout=Layout(height='25px', width='50%'),…"
      ]
     },
     "metadata": {},
     "output_type": "display_data"
    },
    {
     "name": "stdout",
     "output_type": "stream",
     "text": [
      "Top areas racial profile\n",
      "+--------------------+-------------+\n",
      "|   Vict Descent Full|Total_Victims|\n",
      "+--------------------+-------------+\n",
      "|               White|          272|\n",
      "|               Other|           97|\n",
      "|Hispanic/Latin/Me...|           45|\n",
      "|               Black|           29|\n",
      "|             Unknown|           20|\n",
      "|         Other Asian|           17|\n",
      "|            Filipino|            1|\n",
      "+--------------------+-------------+\n",
      "\n",
      "Bottom areas racial profile\n",
      "+--------------------+-------------+\n",
      "|   Vict Descent Full|Total_Victims|\n",
      "+--------------------+-------------+\n",
      "|Hispanic/Latin/Me...|         7239|\n",
      "|               Black|         4572|\n",
      "|               Other|          412|\n",
      "|               White|          363|\n",
      "|         Other Asian|           69|\n",
      "|             Unknown|           54|\n",
      "|            Filipino|            3|\n",
      "|              Korean|            2|\n",
      "|            Japanese|            2|\n",
      "|             Chinese|            2|\n",
      "|American Indian/A...|            1|\n",
      "|           Guamanian|            1|\n",
      "+--------------------+-------------+"
     ]
    }
   ],
   "source": [
    "# Top areas racial profile\n",
    "top_racial_profile_data = crime_race_data.join(\n",
    "    top_areas_data, on=\"Zip_Code\", how=\"inner\"\n",
    ").groupBy(\"Vict Descent Full\").agg(\n",
    "    count(\"*\").alias(\"Total_Victims\")\n",
    ").orderBy(col(\"Total_Victims\").desc())\n",
    "\n",
    "# Bottom areas racial profile\n",
    "bottom_racial_profile_data = crime_race_data.join(\n",
    "    bottom_areas_data, on=\"Zip_Code\", how=\"inner\"\n",
    ").groupBy(\"Vict Descent Full\").agg(\n",
    "    count(\"*\").alias(\"Total_Victims\")\n",
    ").orderBy(col(\"Total_Victims\").desc())\n",
    "\n",
    "# Show results\n",
    "print(f\"Top areas racial profile\")\n",
    "top_racial_profile_data.show()\n",
    "print(f\"Bottom areas racial profile\")\n",
    "bottom_racial_profile_data.show()\n",
    "\n",
    "end_time_3 = time.time()"
   ]
  },
  {
   "cell_type": "code",
   "execution_count": 24,
   "id": "fdd32335-b402-480b-8d2f-dff59f6a0f85",
   "metadata": {
    "tags": []
   },
   "outputs": [
    {
     "data": {
      "application/vnd.jupyter.widget-view+json": {
       "model_id": "",
       "version_major": 2,
       "version_minor": 0
      },
      "text/plain": [
       "FloatProgress(value=0.0, bar_style='info', description='Progress:', layout=Layout(height='25px', width='50%'),…"
      ]
     },
     "metadata": {},
     "output_type": "display_data"
    },
    {
     "name": "stdout",
     "output_type": "stream",
     "text": [
      "2 executors 8g memory 4 core: 117.77 seconds"
     ]
    }
   ],
   "source": [
    "elapsed_time_2_8_4 = end_time_3 - start_time_3\n",
    "print(f\"2 executors 8g memory 4 core: {elapsed_time_2_8_4:.2f} seconds\")"
   ]
  },
  {
   "cell_type": "markdown",
   "id": "e1963053-364e-40c9-831e-662593fa08df",
   "metadata": {},
   "source": [
    "## Comparison \n"
   ]
  },
  {
   "cell_type": "code",
   "execution_count": 25,
   "id": "2a6ea18e-f118-49ac-822e-a6d5a792e65b",
   "metadata": {
    "tags": []
   },
   "outputs": [
    {
     "data": {
      "application/vnd.jupyter.widget-view+json": {
       "model_id": "",
       "version_major": 2,
       "version_minor": 0
      },
      "text/plain": [
       "FloatProgress(value=0.0, bar_style='info', description='Progress:', layout=Layout(height='25px', width='50%'),…"
      ]
     },
     "metadata": {},
     "output_type": "display_data"
    },
    {
     "name": "stdout",
     "output_type": "stream",
     "text": [
      "2 executors 2g memory 1 core: 174.58 seconds\n",
      "2 executors 4g memory 2 core: 119.00 seconds\n",
      "2 executors 8g memory 4 core: 117.77 seconds"
     ]
    }
   ],
   "source": [
    "print(f\"2 executors 2g memory 1 core: {elapsed_time_2_2_1:.2f} seconds\")\n",
    "print(f\"2 executors 4g memory 2 core: {elapsed_time_2_4_2:.2f} seconds\")\n",
    "print(f\"2 executors 8g memory 4 core: {elapsed_time_2_8_4:.2f} seconds\")"
   ]
  },
  {
   "cell_type": "code",
   "execution_count": 26,
   "id": "20f5670c-3aaa-4f31-bdfc-1e4717e0d408",
   "metadata": {
    "tags": []
   },
   "outputs": [
    {
     "data": {
      "application/vnd.jupyter.widget-view+json": {
       "model_id": "",
       "version_major": 2,
       "version_minor": 0
      },
      "text/plain": [
       "FloatProgress(value=0.0, bar_style='info', description='Progress:', layout=Layout(height='25px', width='50%'),…"
      ]
     },
     "metadata": {},
     "output_type": "display_data"
    },
    {
     "name": "stdout",
     "output_type": "stream",
     "text": [
      "The minimum elapsed time is:  117.77460598945618"
     ]
    }
   ],
   "source": [
    "# Find the minimum elapsed time\n",
    "min_elapsed_time = min(elapsed_time_2_2_1, elapsed_time_2_4_2, elapsed_time_2_8_4)\n",
    "\n",
    "# Print the minimum elapsed time\n",
    "print(f\"The minimum elapsed time is:  {min_elapsed_time}\")"
   ]
  },
  {
   "cell_type": "code",
   "execution_count": null,
   "id": "e29186ca-5d97-4838-8cbd-a1b7458a8e99",
   "metadata": {},
   "outputs": [],
   "source": []
  },
  {
   "cell_type": "code",
   "execution_count": null,
   "id": "9bf1db03-2ff0-4c39-8973-d68d1f41a974",
   "metadata": {},
   "outputs": [],
   "source": []
  }
 ],
 "metadata": {
  "kernelspec": {
   "display_name": "Sparkmagic (PySpark)",
   "language": "python",
   "name": "pysparkkernel"
  },
  "language_info": {
   "codemirror_mode": {
    "name": "python",
    "version": 3
   },
   "file_extension": ".py",
   "mimetype": "text/x-python",
   "name": "pyspark",
   "pygments_lexer": "python3"
  }
 },
 "nbformat": 4,
 "nbformat_minor": 5
}
